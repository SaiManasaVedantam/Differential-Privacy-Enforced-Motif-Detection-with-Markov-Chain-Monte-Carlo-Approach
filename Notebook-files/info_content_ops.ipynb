{
  "nbformat": 4,
  "nbformat_minor": 0,
  "metadata": {
    "colab": {
      "provenance": []
    },
    "kernelspec": {
      "name": "python3",
      "display_name": "Python 3"
    },
    "language_info": {
      "name": "python"
    }
  },
  "cells": [
    {
      "cell_type": "markdown",
      "source": [
        "### This notebook defines function to read and compute information content values"
      ],
      "metadata": {
        "id": "MkuUXrGQOVXv"
      }
    },
    {
      "cell_type": "code",
      "source": [
        "# Import necessary packages\n",
        "import numpy as np\n",
        "import math"
      ],
      "metadata": {
        "id": "H50mTOyBQ-TJ"
      },
      "execution_count": 1,
      "outputs": []
    },
    {
      "cell_type": "code",
      "execution_count": 2,
      "metadata": {
        "id": "xKB99SSYFCTI"
      },
      "outputs": [],
      "source": [
        "# Function to predict the motif_site in ignored sequence using the Position Weight Matrix\n",
        "# Input: motif_sites, dna_seqeunces, motif_length, no_of_seqs, pwm\n",
        "# Output: Returns information content and updated pwm\n",
        "\n",
        "def compute_information_content(nucleotides, freq, motif_sites, dna_seqs, motif_len, no_of_seqs, precomputed_pwm):\n",
        "  \n",
        "  # Calculating the PWM\n",
        "  # Rows: 4 representing A, G, T, C respectively\n",
        "  # Columns: As many as the motif length\n",
        "  updated_pwm = np.zeros((4, motif_len))\n",
        "  \n",
        "  # Indexing the N-1 sequences\n",
        "  idx = 0\n",
        "\n",
        "  # Computing updated PWM\n",
        "  for seq_idx in range(0, no_of_seqs):\n",
        "    for m_len in range(0, motif_len):\n",
        "      value = dna_seqs[seq_idx][motif_sites[idx] + m_len]\n",
        "      if value == nucleotides[0]:\n",
        "        updated_pwm[0][m_len] += 1\n",
        "      elif value == nucleotides[1]:\n",
        "        updated_pwm[1][m_len] += 1\n",
        "      elif value == nucleotides[2]:\n",
        "        updated_pwm[2][m_len] += 1\n",
        "      elif value == nucleotides[3]:\n",
        "        updated_pwm[3][m_len] += 1\n",
        "    idx += 1\n",
        "  updated_pwm = updated_pwm / no_of_seqs\n",
        "\n",
        "  # Finding the information content based on the updated PWM\n",
        "  info_content = 0\n",
        "  for m_len in range(0, motif_len):\n",
        "    for nuc_no in range(0, 4):\n",
        "      if nuc_no == 0:\n",
        "        normalized_pwm = updated_pwm[nuc_no][m_len] / freq[0]\n",
        "      elif nuc_no == 1:\n",
        "        normalized_pwm = updated_pwm[nuc_no][m_len] / freq[1]\n",
        "      elif nuc_no == 2:\n",
        "        normalized_pwm = updated_pwm[nuc_no][m_len] / freq[2]\n",
        "      elif nuc_no == 3:\n",
        "        normalized_pwm = updated_pwm[nuc_no][m_len] / freq[3]\n",
        "      if normalized_pwm == 0:\n",
        "        continue\n",
        "      info_content += updated_pwm[nuc_no][m_len] * math.log(normalized_pwm, 2)\n",
        "\n",
        "  return info_content, updated_pwm\n"
      ]
    },
    {
      "cell_type": "code",
      "source": [
        "# Function to read data from icpc_p_map.txt to get the probability associated with the Information Content Per Column (ICPC)\n",
        "# Input: file_path (String)\n",
        "# Output: icpc_prob (List containing icpc info)\n",
        "\n",
        "def obtain_info_content_per_column(file_path):\n",
        "  \n",
        "  # Open given file and store the file_ptr\n",
        "  file_ptr = open(file_path, \"r\")\n",
        "  icpc_prob = []\n",
        "  header_line = False\n",
        "\n",
        "  for each_line in file_ptr:\n",
        "    if header_line == False:\n",
        "      header_line = True\n",
        "      continue\n",
        "    line = each_line.strip().split()\n",
        "    line = [float(x) for x in line]\n",
        "    icpc_prob.append(line)\n",
        "  file_ptr.close()\n",
        "  \n",
        "  return icpc_prob\n"
      ],
      "metadata": {
        "id": "56rd_8SAFFcb"
      },
      "execution_count": 3,
      "outputs": []
    }
  ]
}