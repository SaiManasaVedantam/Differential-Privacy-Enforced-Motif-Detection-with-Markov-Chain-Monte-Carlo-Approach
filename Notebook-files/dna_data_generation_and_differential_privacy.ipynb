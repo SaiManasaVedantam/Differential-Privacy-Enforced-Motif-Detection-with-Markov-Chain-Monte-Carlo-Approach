{
  "cells": [
    {
      "cell_type": "markdown",
      "metadata": {
        "id": "Hi_A7GVPKvSS"
      },
      "source": [
        "### Generating DNA dataset for motif detection & implementing Differential Privacy on data"
      ]
    },
    {
      "cell_type": "code",
      "source": [
        "# Install required packages\n",
        "!pip install ipynb\n",
        "!pip install import-ipynb"
      ],
      "metadata": {
        "id": "13RNWS49Egtm"
      },
      "execution_count": null,
      "outputs": []
    },
    {
      "cell_type": "code",
      "execution_count": 2,
      "metadata": {
        "id": "EY_BFVBjKf3B"
      },
      "outputs": [],
      "source": [
        "# Filter warnings\n",
        "import warnings\n",
        "warnings.filterwarnings(\"ignore\")\n",
        "\n",
        "# Import necessary libraries\n",
        "import time\n",
        "import random\n",
        "import matplotlib.pyplot as plt\n",
        "from google.colab import drive\n"
      ]
    },
    {
      "cell_type": "code",
      "source": [
        "# Define path to fetch the ipynb file\n",
        "import sys\n",
        "sys.path.append('/content/drive/MyDrive/Motif-Detection/Py-files/Utils/')\n",
        "\n",
        "# Import ipynb needed to access required functions\n",
        "import import_ipynb\n",
        "from file_io import save_generated_data_to_respective_files\n",
        "from info_content_ops import obtain_info_content_per_column\n",
        "from visualization import visualize_sequence_generation_times\n"
      ],
      "metadata": {
        "id": "eKT-oY4iEw0r"
      },
      "execution_count": 3,
      "outputs": []
    },
    {
      "cell_type": "markdown",
      "source": [
        "## All necessary functions that deal with data generation, motif positioning, information content extraction, storing results etc. are defined below"
      ],
      "metadata": {
        "id": "yHkW7EYimfSo"
      }
    },
    {
      "cell_type": "code",
      "execution_count": 4,
      "metadata": {
        "id": "3RaGAt6IOrEk"
      },
      "outputs": [],
      "source": [
        "# Function to generate a random sequence of certain length based on nucleotide probabilities\n",
        "# Input: sequence_length (Integer), nucleotide_prob (Integer array of size 4)\n",
        "# Output: sequence (String of length sequence_length)\n",
        "\n",
        "def generate_sequence(sequence_length, nucleotide_prob):\n",
        "\tsequence = []\n",
        "  \n",
        "\tfor i in range(0, sequence_length):\n",
        "\t\trandom_probability = random.random()\n",
        "\t\tif random_probability < nucleotide_prob[0]:\n",
        "\t\t\tsequence.append(nucleotides[0])\n",
        "\t\telif random_probability < nucleotide_prob[0] + nucleotide_prob[1]:\n",
        "\t\t\tsequence.append(nucleotides[1])\n",
        "\t\telif random_probability < nucleotide_prob[0] + nucleotide_prob[1] + nucleotide_prob[2]:\n",
        "\t\t\tsequence.append(nucleotides[2])\n",
        "\t\telse:\n",
        "\t\t\tsequence.append(nucleotides[3])\n",
        "\t \n",
        "\treturn ''.join(sequence)\n",
        " "
      ]
    },
    {
      "cell_type": "code",
      "execution_count": 5,
      "metadata": {
        "id": "l1xzFgqlQvYx"
      },
      "outputs": [],
      "source": [
        "# Function to plant a randomly chosen motif at a random position in the given sequence\n",
        "# Input: seq_to_modify (String), motifs (Array of motif Strings), motif_length (Integer), \n",
        "# \t\t\t sequence_length (Integer), sequence_count (Integer (Max. no. of motifs available))\n",
        "# Output: modified_sequence (String which is obtained by inserting randomized_motif in seq_to_modify)\n",
        "\n",
        "def plant_motifs_in_sequence(seq_to_modify, motifs, motif_length, sequence_length, sequence_count):\n",
        "\trandom_plant_position = random.randrange(0, sequence_length - motif_length)\n",
        "\trandom_motif_position = random.randrange(0, sequence_count)\n",
        "\tmodified_sequence = seq_to_modify[:random_motif_position] + motifs[random_motif_position] + seq_to_modify[random_motif_position + motif_length:]\n",
        "\t\n",
        "\treturn modified_sequence, random_motif_position\n"
      ]
    },
    {
      "cell_type": "code",
      "source": [
        "# Function to generate sequence_count no. of random sequences of size sequence_length\n",
        "# Input: sequence_count (Integer), sequence_length (Integer), nucleotide_prob (List)\n",
        "# Output: sequences (List of sequence_count no. of sequences each of sequence_length size)\n",
        "#         generation_time (Float describing the time taken to generate sequences)\n",
        "\n",
        "def generate_sequences_of_given_count(sequence_count, sequence_length, nucleotide_prob):\n",
        "  start_time = time.perf_counter()\n",
        "  sequences = []\n",
        "  \n",
        "  for count in range(0, sequence_count):\n",
        "    generated_sequence = generate_sequence(sequence_length, nucleotide_prob)\n",
        "    sequences.append(generated_sequence)\n",
        "  print(\"\\nNo. of sequences: \", len(sequences))  \n",
        "  print(\"A sample sequence looks like: \", sequences[0])\n",
        "  end_time = time.perf_counter()\n",
        "  generation_time = round(end_time - start_time, 2)\n",
        "\n",
        "  return sequences, generation_time\n",
        "  "
      ],
      "metadata": {
        "id": "xGdZ_kA4zF39"
      },
      "execution_count": 6,
      "outputs": []
    },
    {
      "cell_type": "markdown",
      "source": [
        "## Performing actual data genaration for further use"
      ],
      "metadata": {
        "id": "Xlbmirb2m-29"
      }
    },
    {
      "cell_type": "code",
      "source": [
        "# Establish connection to use Google drive\n",
        "drive.mount(\"/content/drive\")\n",
        "base_path = \"drive/MyDrive/Motif-Detection/Data/\"\n"
      ],
      "metadata": {
        "id": "BhSFIaYCP_y2",
        "colab": {
          "base_uri": "https://localhost:8080/"
        },
        "outputId": "b0693a5e-0914-4e1e-e046-56473cfd0401"
      },
      "execution_count": 7,
      "outputs": [
        {
          "output_type": "stream",
          "name": "stdout",
          "text": [
            "Drive already mounted at /content/drive; to attempt to forcibly remount, call drive.mount(\"/content/drive\", force_remount=True).\n"
          ]
        }
      ]
    },
    {
      "cell_type": "code",
      "execution_count": 8,
      "metadata": {
        "id": "Zv8nZlyVMCAW"
      },
      "outputs": [],
      "source": [
        "# Define constants needed\n",
        "nucleotides = ['A', 'G', 'T', 'C']\n",
        "nucleotide_prob = [0.25, 0.25, 0.25, 0.25]\n",
        "\n",
        "# ICPC: information_content_per_column = float(input()) # [0, 2]\n",
        "# Typically rounded down to two decimal digits\n",
        "icpc = 1.02 \n",
        "\n",
        "# Generally 5-20 base pairs long\n",
        "motif_length = 40 \n",
        "\n",
        "# General length of a dna sequence is 150 base pairs\n",
        "sequence_length = 300\n",
        "\n",
        "# For analysis, we generate different no. of dna sequences\n",
        "sequence_counts = [1000, 5000, 10000, 50000, 100000]\n",
        "\n",
        "# For analysis, we store sequence generation times for various length \n",
        "sequence_generation_times = []\n"
      ]
    },
    {
      "cell_type": "code",
      "source": [
        "# Obtain probability associated with information content per column\n",
        "icpc_path = base_path + \"icpc_p_map.txt\"\n",
        "icpc_prob = obtain_info_content_per_column(icpc_path)\n",
        "icpc_probability = [icpc_prob[i][1] for i in range(0, len(icpc_prob)) if round(icpc, 2) == icpc_prob[i][0]]\n",
        "icpc_probability = icpc_probability[0]\n",
        "\n",
        "# Obtain normalized probabilities by performing (1 - prob) / (1 + max_icpc)\n",
        "normalized_prob = (1 - icpc_probability) / 3.0\n",
        "\n",
        "# Generate a random motif and save it to random_motif.txt\n",
        "random_motif = generate_sequence(motif_length, nucleotide_prob)\n"
      ],
      "metadata": {
        "id": "FyZhWprFbTeR"
      },
      "execution_count": 9,
      "outputs": []
    },
    {
      "cell_type": "code",
      "source": [
        "# Generate DNA sequences of different sequence counts\n",
        "for sequence_count in sequence_counts:\n",
        "\n",
        "  # Start the timer to track generation times\n",
        "  start_time = time.perf_counter()\n",
        "  \n",
        "  # Generate sequences of given sequence count\n",
        "  sequences = []\n",
        "  for i in range(0, sequence_count):\n",
        "    seq = generate_sequence(sequence_length, nucleotide_prob)\n",
        "    sequences.append(seq)\n",
        "\n",
        "  # Generate motif_length no. of random motifs of size sequence_count using\n",
        "  # the previously generated random motif to re-assign probability values\n",
        "  generated_motifs = []\n",
        "  for i in range(0, motif_length):\n",
        "    motif_prob = [normalized_prob, normalized_prob, normalized_prob, normalized_prob]\n",
        "    for j in range(0, len(nucleotides)):\n",
        "      if random_motif[i] == nucleotides[j]:\n",
        "        motif_prob[j] = icpc_probability\n",
        "    generated_motif = generate_sequence(sequence_count, motif_prob)\n",
        "    generated_motifs.append(generated_motif)\n",
        "\n",
        "  # Generate sequence_count no. of random motifs of size motif_length\n",
        "  motifs = []\n",
        "  for i in range(0, sequence_count):\n",
        "    motif = []\n",
        "    for j in range(0, motif_length):\n",
        "      motif.append(generated_motifs[j][i])\n",
        "    motifs.append(''.join(motif))\n",
        "\n",
        "  print(\"\\nNo. of motifs: \", len(motifs))\n",
        "  print(\"A motif looks like: \", motifs[0])\n",
        "\n",
        "  # Constructing the Positional Weight Matrix or Profile Matrix\n",
        "  # to analyze the counts associated with nucleotides\n",
        "  profile_matrix = []\n",
        "  for i in range(0, motif_length):\n",
        "    counts = [0, 0, 0, 0]\n",
        "    for j in range(0, sequence_count):\n",
        "      for k in range(0, len(nucleotides)):\n",
        "        if motifs[j][i] == nucleotides[k]:\n",
        "          counts[k] = counts[k] + 1\n",
        "    profile_matrix.append(counts)\n",
        "\n",
        "  print(\"\\nNo. of rows in profile_matrix: \", len(profile_matrix))\n",
        "  print(\"No. of columns in profile matrix: \", len(profile_matrix[0]))\n",
        "  print(\"A sample row in profile matrix looks like: \", profile_matrix[0], \"\\n\")\n",
        "\n",
        "  # Plant as many motifs as sequence_count in sequences to enforce differential privacy\n",
        "  modified_sequences = []\n",
        "  random_positions = []\n",
        "  for i in range(0, sequence_count):\n",
        "    modified_sequence, random_position = plant_motifs_in_sequence(sequences[i], motifs, motif_length, sequence_length, sequence_count)\n",
        "    modified_sequences.append(modified_sequence)\n",
        "    random_positions.append(random_position)\n",
        "\n",
        "  # Save results to respective files\n",
        "  save_generated_data_to_respective_files(base_path, sequence_count, modified_sequences, random_motif, random_positions, profile_matrix)\n",
        "\n",
        "  # End the timer to stop and save the total generation time\n",
        "  end_time = time.perf_counter()\n",
        "  sequence_generation_times.append(round(end_time - start_time, 2))\n",
        "  print(\"**********************************\")\n"
      ],
      "metadata": {
        "id": "XXCGMZ5gbPrS",
        "colab": {
          "base_uri": "https://localhost:8080/"
        },
        "outputId": "eff3e3d9-8f15-458c-bf15-94a9ea766253"
      },
      "execution_count": 10,
      "outputs": [
        {
          "output_type": "stream",
          "name": "stdout",
          "text": [
            "\n",
            "No. of motifs:  1000\n",
            "A motif looks like:  ACTGAGCCACTGCGCACCCCCCCTACTTGGCGTGGGGCGA\n",
            "\n",
            "No. of rows in profile_matrix:  40\n",
            "No. of columns in profile matrix:  4\n",
            "A sample row in profile matrix looks like:  [829, 51, 54, 66] \n",
            "\n",
            "**********************************\n",
            "\n",
            "No. of motifs:  5000\n",
            "A motif looks like:  CCTGAGCCCATGTCGAGCCCCCCGAGATGGCTTGTGTCCA\n",
            "\n",
            "No. of rows in profile_matrix:  40\n",
            "No. of columns in profile matrix:  4\n",
            "A sample row in profile matrix looks like:  [4061, 302, 320, 317] \n",
            "\n",
            "**********************************\n",
            "\n",
            "No. of motifs:  10000\n",
            "A motif looks like:  ACTGAACCACTGCCCACTCACACTAGTTGGAGTGAGTTCA\n",
            "\n",
            "No. of rows in profile_matrix:  40\n",
            "No. of columns in profile matrix:  4\n",
            "A sample row in profile matrix looks like:  [8219, 600, 576, 605] \n",
            "\n",
            "**********************************\n",
            "\n",
            "No. of motifs:  50000\n",
            "A motif looks like:  AGTGAGCGACTGCCCACTCCAACATTTTGGCGCGCGTCAA\n",
            "\n",
            "No. of rows in profile_matrix:  40\n",
            "No. of columns in profile matrix:  4\n",
            "A sample row in profile matrix looks like:  [40774, 3059, 3050, 3117] \n",
            "\n",
            "**********************************\n",
            "\n",
            "No. of motifs:  100000\n",
            "A motif looks like:  ACAGTGACAAGGGCCACCACCACTATTTGGCGTTCGGCAA\n",
            "\n",
            "No. of rows in profile_matrix:  40\n",
            "No. of columns in profile matrix:  4\n",
            "A sample row in profile matrix looks like:  [81665, 6202, 6046, 6087] \n",
            "\n",
            "**********************************\n"
          ]
        }
      ]
    },
    {
      "cell_type": "markdown",
      "source": [
        "## Visualizing the relation between sequence count and generation times"
      ],
      "metadata": {
        "id": "nND2IdU_nULI"
      }
    },
    {
      "cell_type": "code",
      "source": [
        "# Plot the generation times and sequence_count to visualize data generation times\n",
        "visualize_sequence_generation_times(sequence_generation_times, sequence_counts)\n"
      ],
      "metadata": {
        "id": "Wx0KFslvihNf",
        "colab": {
          "base_uri": "https://localhost:8080/",
          "height": 295
        },
        "outputId": "cf2feeae-cbd0-4cf6-bccc-9d0a52ad6a94"
      },
      "execution_count": 11,
      "outputs": [
        {
          "output_type": "display_data",
          "data": {
            "text/plain": [
              "<Figure size 432x288 with 1 Axes>"
            ],
            "image/png": "[encoded data removed]"
          },
          "metadata": {
            "needs_background": "light"
          }
        }
      ]
    }
  ],
  "metadata": {
    "colab": {
      "provenance": []
    },
    "kernelspec": {
      "display_name": "Python 3",
      "name": "python3"
    },
    "language_info": {
      "name": "python"
    }
  },
  "nbformat": 4,
  "nbformat_minor": 0
}