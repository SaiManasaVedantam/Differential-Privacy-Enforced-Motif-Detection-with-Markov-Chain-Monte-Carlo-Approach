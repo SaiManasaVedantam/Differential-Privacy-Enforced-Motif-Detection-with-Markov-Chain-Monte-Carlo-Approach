{
  "cells": [
    {
      "cell_type": "markdown",
      "metadata": {
        "id": "j1f9X29RBmx5"
      },
      "source": [
        "### Implementing Markov Chain Monte Carlo approach's Gibbs Sampling on generated data for COVID detection"
      ]
    },
    {
      "cell_type": "code",
      "source": [
        "# Install required packages\n",
        "!pip install ipynb\n",
        "!pip install import-ipynb"
      ],
      "metadata": {
        "colab": {
          "base_uri": "https://localhost:8080/"
        },
        "id": "qcDQ7sNUT9z8",
        "outputId": "65fd7439-1041-4f2d-f94c-a69054630bb0"
      },
      "execution_count": 1,
      "outputs": [
        {
          "output_type": "stream",
          "name": "stdout",
          "text": [
            "Looking in indexes: https://pypi.org/simple, https://us-python.pkg.dev/colab-wheels/public/simple/\n",
            "Requirement already satisfied: ipynb in /usr/local/lib/python3.7/dist-packages (0.5.1)\n",
            "Looking in indexes: https://pypi.org/simple, https://us-python.pkg.dev/colab-wheels/public/simple/\n",
            "Requirement already satisfied: import-ipynb in /usr/local/lib/python3.7/dist-packages (0.1.4)\n",
            "Requirement already satisfied: nbformat in /usr/local/lib/python3.7/dist-packages (from import-ipynb) (5.7.0)\n",
            "Requirement already satisfied: IPython in /usr/local/lib/python3.7/dist-packages (from import-ipynb) (7.9.0)\n",
            "Requirement already satisfied: setuptools>=18.5 in /usr/local/lib/python3.7/dist-packages (from IPython->import-ipynb) (57.4.0)\n",
            "Requirement already satisfied: pexpect in /usr/local/lib/python3.7/dist-packages (from IPython->import-ipynb) (4.8.0)\n",
            "Requirement already satisfied: pygments in /usr/local/lib/python3.7/dist-packages (from IPython->import-ipynb) (2.6.1)\n",
            "Requirement already satisfied: pickleshare in /usr/local/lib/python3.7/dist-packages (from IPython->import-ipynb) (0.7.5)\n",
            "Requirement already satisfied: traitlets>=4.2 in /usr/local/lib/python3.7/dist-packages (from IPython->import-ipynb) (5.1.1)\n",
            "Requirement already satisfied: decorator in /usr/local/lib/python3.7/dist-packages (from IPython->import-ipynb) (4.4.2)\n",
            "Requirement already satisfied: jedi>=0.10 in /usr/local/lib/python3.7/dist-packages (from IPython->import-ipynb) (0.18.2)\n",
            "Requirement already satisfied: backcall in /usr/local/lib/python3.7/dist-packages (from IPython->import-ipynb) (0.2.0)\n",
            "Requirement already satisfied: prompt-toolkit<2.1.0,>=2.0.0 in /usr/local/lib/python3.7/dist-packages (from IPython->import-ipynb) (2.0.10)\n",
            "Requirement already satisfied: parso<0.9.0,>=0.8.0 in /usr/local/lib/python3.7/dist-packages (from jedi>=0.10->IPython->import-ipynb) (0.8.3)\n",
            "Requirement already satisfied: wcwidth in /usr/local/lib/python3.7/dist-packages (from prompt-toolkit<2.1.0,>=2.0.0->IPython->import-ipynb) (0.2.5)\n",
            "Requirement already satisfied: six>=1.9.0 in /usr/local/lib/python3.7/dist-packages (from prompt-toolkit<2.1.0,>=2.0.0->IPython->import-ipynb) (1.15.0)\n",
            "Requirement already satisfied: importlib-metadata>=3.6 in /usr/local/lib/python3.7/dist-packages (from nbformat->import-ipynb) (4.13.0)\n",
            "Requirement already satisfied: jupyter-core in /usr/local/lib/python3.7/dist-packages (from nbformat->import-ipynb) (4.11.2)\n",
            "Requirement already satisfied: jsonschema>=2.6 in /usr/local/lib/python3.7/dist-packages (from nbformat->import-ipynb) (4.3.3)\n",
            "Requirement already satisfied: fastjsonschema in /usr/local/lib/python3.7/dist-packages (from nbformat->import-ipynb) (2.16.2)\n",
            "Requirement already satisfied: typing-extensions>=3.6.4 in /usr/local/lib/python3.7/dist-packages (from importlib-metadata>=3.6->nbformat->import-ipynb) (4.1.1)\n",
            "Requirement already satisfied: zipp>=0.5 in /usr/local/lib/python3.7/dist-packages (from importlib-metadata>=3.6->nbformat->import-ipynb) (3.10.0)\n",
            "Requirement already satisfied: pyrsistent!=0.17.0,!=0.17.1,!=0.17.2,>=0.14.0 in /usr/local/lib/python3.7/dist-packages (from jsonschema>=2.6->nbformat->import-ipynb) (0.19.2)\n",
            "Requirement already satisfied: importlib-resources>=1.4.0 in /usr/local/lib/python3.7/dist-packages (from jsonschema>=2.6->nbformat->import-ipynb) (5.10.0)\n",
            "Requirement already satisfied: attrs>=17.4.0 in /usr/local/lib/python3.7/dist-packages (from jsonschema>=2.6->nbformat->import-ipynb) (22.1.0)\n",
            "Requirement already satisfied: ptyprocess>=0.5 in /usr/local/lib/python3.7/dist-packages (from pexpect->IPython->import-ipynb) (0.7.0)\n"
          ]
        }
      ]
    },
    {
      "cell_type": "code",
      "execution_count": 2,
      "metadata": {
        "id": "OApP65IfXype"
      },
      "outputs": [],
      "source": [
        "# Filter warnings\n",
        "import warnings\n",
        "warnings.filterwarnings(\"ignore\")\n",
        "\n",
        "# Import necessary libraries\n",
        "import time\n",
        "import random\n",
        "import numpy as np\n",
        "import math\n",
        "from google.colab import drive\n",
        "from collections import Counter\n"
      ]
    },
    {
      "cell_type": "code",
      "source": [
        "# Establish connection to use Google drive\n",
        "drive.mount(\"/content/drive\")\n",
        "base_path = \"drive/MyDrive/Motif-Detection/\"\n",
        "input_path = base_path + \"Data/\"\n",
        "covid_data_path = base_path + \"Covid-Detection/Data/\"\n",
        "result_path = base_path + \"Covid-Detection/Results/\""
      ],
      "metadata": {
        "colab": {
          "base_uri": "https://localhost:8080/"
        },
        "id": "8Tet1i2UydhS",
        "outputId": "8c6c3b30-bd95-4c0d-a36c-15e9851b8c66"
      },
      "execution_count": 16,
      "outputs": [
        {
          "output_type": "stream",
          "name": "stdout",
          "text": [
            "Drive already mounted at /content/drive; to attempt to forcibly remount, call drive.mount(\"/content/drive\", force_remount=True).\n"
          ]
        }
      ]
    },
    {
      "cell_type": "code",
      "source": [
        "# Define path to fetch the ipynb file\n",
        "import sys\n",
        "sys.path.insert(1, r'/content/drive/MyDrive/Motif-Detection/Py-files/Utils/')\n",
        "\n",
        "# Import ipynb needed to access required functions\n",
        "import import_ipynb\n",
        "from info_content_ops import compute_information_content, obtain_info_content_per_column\n",
        "from file_io import read_sequences_from_input_file, save_prediction_results_to_respective_files, save_generated_data_to_respective_files\n",
        "from visualization import find_count_of_threshold_matched_sequences, compute_normalized_motif_counts, plot_motif_match_observations, visualize_sequence_generation_times, visualize_motif_generation_times\n"
      ],
      "metadata": {
        "id": "j5104EU8UBaO"
      },
      "execution_count": 4,
      "outputs": []
    },
    {
      "cell_type": "code",
      "source": [
        "# Function to generate a random sequence of certain length based on nucleotide probabilities\n",
        "# Input: sequence_length (Integer), nucleotide_prob (Integer array of size 4)\n",
        "# Output: sequence (String of length sequence_length)\n",
        "\n",
        "def generate_sequence(sequence_length, nucleotide_prob):\n",
        "\tsequence = []\n",
        "  \n",
        "\tfor i in range(0, sequence_length):\n",
        "\t\trandom_probability = random.random()\n",
        "\t\tif random_probability < nucleotide_prob[0]:\n",
        "\t\t\tsequence.append(nucleotides[0])\n",
        "\t\telif random_probability < nucleotide_prob[0] + nucleotide_prob[1]:\n",
        "\t\t\tsequence.append(nucleotides[1])\n",
        "\t\telif random_probability < nucleotide_prob[0] + nucleotide_prob[1] + nucleotide_prob[2]:\n",
        "\t\t\tsequence.append(nucleotides[2])\n",
        "\t\telse:\n",
        "\t\t\tsequence.append(nucleotides[3])\n",
        "\t \n",
        "\treturn ''.join(sequence)\n"
      ],
      "metadata": {
        "id": "NEsn6S6z1yAr"
      },
      "execution_count": 5,
      "outputs": []
    },
    {
      "cell_type": "code",
      "source": [
        "# Function to plant a randomly chosen motif at a random position in the given sequence\n",
        "# Input: seq_to_modify (String), motifs (Array of motif Strings), motif_length (Integer), \n",
        "# \t\t\t sequence_length (Integer), sequence_count (Integer (Max. no. of motifs available))\n",
        "# Output: modified_sequence (String which is obtained by inserting randomized_motif in seq_to_modify)\n",
        "\n",
        "def plant_motifs_in_sequence(seq_to_modify, motifs, motif_length, sequence_length, sequence_count):\n",
        "\trandom_plant_position = random.randrange(0, sequence_length - motif_length)\n",
        "\trandom_motif_position = random.randrange(0, sequence_count)\n",
        "\tmodified_sequence = seq_to_modify[:random_motif_position] + motifs[random_motif_position] + seq_to_modify[random_motif_position + motif_length:]\n",
        "\t\n",
        "\treturn modified_sequence, random_motif_position\n"
      ],
      "metadata": {
        "id": "8pbiHl-W17t_"
      },
      "execution_count": 6,
      "outputs": []
    },
    {
      "cell_type": "code",
      "source": [
        "# Function to generate sequence_count no. of random sequences of size sequence_length\n",
        "# Input: sequence_count (Integer), sequence_length (Integer), nucleotide_prob (List)\n",
        "# Output: sequences (List of sequence_count no. of sequences each of sequence_length size)\n",
        "#         generation_time (Float describing the time taken to generate sequences)\n",
        "\n",
        "def generate_sequences_of_given_count(sequence_count, sequence_length, nucleotide_prob):\n",
        "  start_time = time.perf_counter()\n",
        "  sequences = []\n",
        "  \n",
        "  for count in range(0, sequence_count):\n",
        "    generated_sequence = generate_sequence(sequence_length, nucleotide_prob)\n",
        "    sequences.append(generated_sequence)\n",
        "  print(\"\\nNo. of sequences: \", len(sequences))  \n",
        "  print(\"A sample sequence looks like: \", sequences[0])\n",
        "  end_time = time.perf_counter()\n",
        "  generation_time = round(end_time - start_time, 2)\n",
        "\n",
        "  return sequences, generation_time\n"
      ],
      "metadata": {
        "id": "LqXLgHyq1_Ar"
      },
      "execution_count": 7,
      "outputs": []
    },
    {
      "cell_type": "code",
      "source": [
        "# Function to compute the Position Weight Matrix (PWM) for N-1 sequences\n",
        "# Input: dna_seqeunces, no_of_sequences, motif_length, sequence_length, motif_sites \n",
        "# Output: Returns pwm and ignored sequence\n",
        "\n",
        "def compute_position_weight_matrix(dna_seqs, no_of_seqs, motif_len, seq_len, motif_sites):\n",
        "\n",
        "  # To ignore a sequence, we generate a random number\n",
        "  random.seed(time.time())\n",
        "  ignored_seq = random.randrange(0, no_of_seqs)\n",
        "\n",
        "  # Calculating the PWM\n",
        "  # Rows: 4 representing A, G, T, C respectively\n",
        "  # Columns: As many as the motif length\n",
        "  pwm = np.zeros((4, motif_len))\n",
        "\n",
        "  # Indexing the N-1 sequences\n",
        "  idx = 0\n",
        "\n",
        "  for seq_idx in range(0, no_of_seqs):\n",
        "\n",
        "    # We ignore the previously selected random sequence\n",
        "    if seq_idx == ignored_seq:\n",
        "        continue\n",
        "\n",
        "    else:\n",
        "      for m_len in range(0, motif_len):\n",
        "        value = dna_seqs[seq_idx][motif_sites[idx] + m_len]\n",
        "        if value == nucleotides[0]:\n",
        "          pwm[0][m_len] += 1\n",
        "        elif value == nucleotides[1]:\n",
        "          pwm[1][m_len] += 1\n",
        "        elif value == nucleotides[2]:\n",
        "          pwm[2][m_len] += 1\n",
        "        elif value == nucleotides[3]:\n",
        "          pwm[3][m_len] += 1\n",
        "    idx += 1\n",
        "\n",
        "  return pwm/(no_of_seqs - 1), ignored_seq\n"
      ],
      "metadata": {
        "id": "SSRYSIf71kBV"
      },
      "execution_count": 8,
      "outputs": []
    },
    {
      "cell_type": "code",
      "source": [
        "# Function to find max PWM and max info content\n",
        "# Input: iterations, dna_sequences, motif_length, sequence_length, motif_sites\n",
        "# Output: Returns information content, pwm and information vector\n",
        "\n",
        "def compute_max_pwm_and_ic(iterations, dna_sequences, motif_length, sequence_length, motif_sites, acceptable_info_content = 1.7):\n",
        "\n",
        "  # Declaring required variables\n",
        "  added_prediction, max_info_content, iter_count = False, 0, 0\n",
        "  information_vector = [['IC'], ['sites']]\n",
        "  no_of_seqs = len(dna_sequences)\n",
        "  \n",
        "  print(\"Iterations to be completed: \", iterations)\n",
        "\n",
        "  # Runs multiple iterations to obtain right values\n",
        "  for iteration in range(0, iterations):\n",
        "    \n",
        "    # Tracking iterations\n",
        "    iter_count += 1\n",
        "    if iter_count % 100 == 0:\n",
        "      print(\"Completed \", iter_count, \" iterations\")\n",
        "\n",
        "    # Finding the Position Weight Matrix (PWM) for N-1 sequences\n",
        "    pwm, ignored_seq = compute_position_weight_matrix(dna_sequences, no_of_seqs, motif_length, sequence_length, motif_sites)\n",
        "\n",
        "    # Predicting the site in the ignored sequence using the PWM\n",
        "    predicted_site_in_ignored_seq = predict_motif_site_in_ignored_seq(dna_sequences, ignored_seq, pwm, motif_length, sequence_length)\n",
        "\n",
        "    # Adding the predicted site to the list if it is not yet added\n",
        "    if added_prediction == False:\n",
        "      motif_sites.insert(ignored_seq, predicted_site_in_ignored_seq)\n",
        "      added_prediction = True\n",
        "    else:\n",
        "      motif_sites[ignored_seq] = predicted_site_in_ignored_seq\n",
        "    motif_sites_temp = motif_sites[:]\n",
        "\n",
        "    # Computing the information content of the prediction in the current iteration\n",
        "    information_vector[1].append(motif_sites_temp)\n",
        "    info_content, pwm = compute_information_content(nucleotides, freq, motif_sites, dna_sequences, motif_length, no_of_seqs, pwm)\n",
        "    information_vector[0].append(info_content)\n",
        "\n",
        "    # Updating max. information content value\n",
        "    if info_content > max_info_content:\n",
        "      max_info_content = info_content\n",
        "      max_pwm = pwm\n",
        "\n",
        "    if info_content > (acceptable_info_content * motif_length):\n",
        "      break\n",
        "\n",
        "  # Updating info_content & pwm with the max. values respectively\n",
        "  info_content = max_info_content\n",
        "  pwm = max_pwm\n",
        "  \n",
        "  return info_content, max_pwm, information_vector\n"
      ],
      "metadata": {
        "id": "c28rcLzN1pJA"
      },
      "execution_count": 9,
      "outputs": []
    },
    {
      "cell_type": "code",
      "source": [
        "# Function to predict the motif_site in ignored sequence using the Position Weight Matrix\n",
        "# Input: dna_seqeunces, ignored_seq, pwm, motif_length, sequence_length\n",
        "# Output: Returns the predicted site\n",
        "\n",
        "def predict_motif_site_in_ignored_seq(dna_sequences, ignored_seq, pwm, motif_len, sequence_len):\n",
        "\n",
        "  # Obtaining all possible prediction candidates of given motif length\n",
        "  prediction_candidates = []\n",
        "  for i in range(0, sequence_len - motif_len + 1):\n",
        "    prediction_candidates.append((dna_sequences[ignored_seq])[i:i + motif_len])\n",
        "\n",
        "  # Generating probabilities for all candidates to find the best possible prediction\n",
        "  candidate_probabilities = []\n",
        "  for pred_idx in range(0, len(prediction_candidates)):\n",
        "    frequency, weighted_frequency = 1, 1\n",
        "\n",
        "    for m_len in range(0, motif_len):\n",
        "      value = prediction_candidates[pred_idx][m_len]\n",
        "      if value == nucleotides[0]:\n",
        "        frequency *= freq[0]\n",
        "        weighted_frequency *= pwm[0][m_len]\n",
        "      elif value == nucleotides[1]:\n",
        "        frequency *= freq[1]\n",
        "        weighted_frequency *= pwm[1][m_len]\n",
        "      elif value == nucleotides[2]:\n",
        "        frequency *= freq[2]\n",
        "        weighted_frequency *= pwm[2][m_len]\n",
        "      elif value == nucleotides[3]:\n",
        "        frequency *= freq[3]\n",
        "        weighted_frequency *= pwm[3][m_len]\n",
        "    candidate_probabilities.append(weighted_frequency / frequency)\n",
        "\n",
        "  # Normalizing the probabilities to obtain the predicted site\n",
        "  normalized_probabilities = list(candidate_probabilities / sum(candidate_probabilities))\n",
        "  predicted_site = normalized_probabilities.index(max(normalized_probabilities))\n",
        "  return predicted_site\n"
      ],
      "metadata": {
        "id": "Ix9ed05d1skx"
      },
      "execution_count": 10,
      "outputs": []
    },
    {
      "cell_type": "code",
      "source": [
        "# Function to find motif from pwm using the sequences and motif length\n",
        "# Input: pwm, no_of_seqs, motif_length\n",
        "# Output: Returns motif result and profile matrix\n",
        "\n",
        "def find_motif_from_pwm(pwm, no_of_seqs, motif_length):\n",
        "\n",
        "  # Obtaining the motif from given dna sequences using Position Weight Matrix\n",
        "  profile_matrix = np.transpose(pwm) * no_of_seqs\n",
        "  motif_temp = []\n",
        "  for m_len in range(0, motif_length):\n",
        "    values_at_mlen = list(profile_matrix[m_len])\n",
        "    max_value = max(values_at_mlen)\n",
        "\n",
        "    # As two nucleotides may have equal probability of occurrence, we check if the max_value appears more than once\n",
        "    max_value_indices = []\n",
        "    for idx in range(0, len(values_at_mlen)):\n",
        "      if values_at_mlen[idx] == max_value:\n",
        "        max_value_indices.append(idx)\n",
        "    \n",
        "    if len(max_value_indices) > 1:\n",
        "      motif_index = random.choice(max_value_indices)\n",
        "    else:\n",
        "      motif_index = values_at_mlen.index(max(values_at_mlen))\n",
        "    \n",
        "    motif_temp.append(nucleotides[motif_index])\n",
        "  motif_result = ''.join(motif_temp)\n",
        "\n",
        "  return motif_result, profile_matrix\n"
      ],
      "metadata": {
        "id": "GT9hvl3q1uqT"
      },
      "execution_count": 11,
      "outputs": []
    },
    {
      "cell_type": "code",
      "execution_count": 12,
      "metadata": {
        "colab": {
          "base_uri": "https://localhost:8080/"
        },
        "id": "kNtSLSztgeze",
        "outputId": "8a95c8f3-d4f3-49ab-8e4a-ac5c13a38ef0"
      },
      "outputs": [
        {
          "output_type": "stream",
          "name": "stdout",
          "text": [
            "Drive already mounted at /content/drive; to attempt to forcibly remount, call drive.mount(\"/content/drive\", force_remount=True).\n"
          ]
        }
      ],
      "source": [
        "# Establish connection to use Google drive\n",
        "drive.mount(\"/content/drive\")\n",
        "base_path = \"drive/MyDrive/Motif-Detection/\"\n",
        "input_path = base_path + \"Data/\"\n",
        "covid_data_path = base_path + \"Covid-Data/\"\n",
        "result_path = base_path + \"Covid-Detection/\""
      ]
    },
    {
      "cell_type": "code",
      "source": [
        "# Define constants needed\n",
        "nucleotides = ['A', 'G', 'T', 'C']\n",
        "nucleotide_prob = [0.25, 0.25, 0.25, 0.25]\n",
        "freq = [0.25, 0.25, 0.25, 0.25]\n",
        "\n",
        "# ICPC: information_content_per_column = float(input()) # [0, 2]\n",
        "# Typically rounded down to two decimal digits\n",
        "icpc = 1.02 \n",
        "\n",
        "# Generally 5-20 base pairs long\n",
        "motif_length_to_add = 30\n",
        "motif_length_to_find = 15\n",
        "\n",
        "# General length of a dna sequence is 150 base pairs\n",
        "sequence_length = 300\n",
        "\n",
        "# For analysis, we generate different no. of dna sequences\n",
        "sequence_counts = [1000, 5000, 10000, 50000, 100000]\n",
        "\n",
        "# For analysis, we store sequence generation times for various length \n",
        "sequence_generation_times = []\n",
        "\n",
        "# Application to detect COVID 19 motif in the DNA & find the percentage match\n",
        "covid_motif = \"TTCACCGAGGCCACGCGGAGTACGATCGAGTGTACAGTGAA\"\n",
        "random_motif = covid_motif    #Adding the COVID motif completely to the data\n",
        "#covid_motif_start_pos = random.randint(0, len(covid_motif) - motif_length_to_find)\n"
      ],
      "metadata": {
        "id": "TBxsczJ76yRl"
      },
      "execution_count": 13,
      "outputs": []
    },
    {
      "cell_type": "code",
      "source": [
        "# Obtain probability associated with information content per column\n",
        "icpc_path = input_path + \"icpc_p_map.txt\"\n",
        "icpc_prob = obtain_info_content_per_column(icpc_path)\n",
        "icpc_probability = [icpc_prob[i][1] for i in range(0, len(icpc_prob)) if round(icpc, 2) == icpc_prob[i][0]]\n",
        "icpc_probability = icpc_probability[0]\n",
        "\n",
        "# Obtain normalized probabilities by performing (1 - prob) / (1 + max_icpc)\n",
        "normalized_prob = (1 - icpc_probability) / 3.0\n"
      ],
      "metadata": {
        "id": "Ij9OSG4p7NRO"
      },
      "execution_count": 14,
      "outputs": []
    },
    {
      "cell_type": "code",
      "source": [
        "# Generate DNA sequences of different sequence counts\n",
        "for sequence_count in sequence_counts:\n",
        "\n",
        "  # Start the timer to track generation times\n",
        "  start_time = time.perf_counter()\n",
        "  \n",
        "  # Generate sequences of given sequence count\n",
        "  sequences = []\n",
        "  for i in range(0, sequence_count):\n",
        "    seq = generate_sequence(sequence_length, nucleotide_prob)\n",
        "    sequences.append(seq)\n",
        "  \n",
        "  # Generate 20 random motifs from the COVID 19 motif sequence\n",
        "  generated_motifs = []\n",
        "  for i in range(0, motif_length_to_add):\n",
        "    motif_prob = [normalized_prob, normalized_prob, normalized_prob, normalized_prob]\n",
        "    for j in range(0, len(nucleotides)):\n",
        "      if random_motif[i] == nucleotides[j]:\n",
        "        motif_prob[j] = icpc_probability\n",
        "    generated_motif = generate_sequence(sequence_count, motif_prob)\n",
        "    generated_motifs.append(generated_motif)\n",
        "\n",
        "  # Generate sequence_count no. of random motifs of size motif_length\n",
        "  motifs = []\n",
        "  for i in range(0, sequence_count):\n",
        "    motif = []\n",
        "    for j in range(0, motif_length_to_add):\n",
        "      motif.append(generated_motifs[j][i])\n",
        "    motifs.append(''.join(motif))\n",
        "\n",
        "  print(\"\\nNo. of motifs: \", len(motifs))\n",
        "  print(\"A motif looks like: \", motifs[0])\n",
        "\n",
        "  # Constructing the Positional Weight Matrix or Profile Matrix\n",
        "  # to analyze the counts associated with nucleotides\n",
        "  profile_matrix = []\n",
        "  for i in range(0, motif_length_to_add):\n",
        "    counts = [0, 0, 0, 0]\n",
        "    for j in range(0, sequence_count):\n",
        "      for k in range(0, len(nucleotides)):\n",
        "        if motifs[j][i] == nucleotides[k]:\n",
        "          counts[k] = counts[k] + 1\n",
        "    profile_matrix.append(counts)\n",
        "\n",
        "  print(\"\\nNo. of rows in profile_matrix: \", len(profile_matrix))\n",
        "  print(\"No. of columns in profile matrix: \", len(profile_matrix[0]))\n",
        "  print(\"A sample row in profile matrix looks like: \", profile_matrix[0], \"\\n\")\n",
        "\n",
        "  # Plant as many motifs as sequence_count in sequences to enforce differential privacy\n",
        "  modified_sequences = []\n",
        "  random_positions = []\n",
        "  for i in range(0, sequence_count):\n",
        "    modified_sequence, random_position = plant_motifs_in_sequence(sequences[i], motifs, motif_length_to_add, sequence_length, sequence_count)\n",
        "    modified_sequences.append(modified_sequence)\n",
        "    random_positions.append(random_position)\n",
        "\n",
        "  # Save results to respective files\n",
        "  save_generated_data_to_respective_files(covid_data_path, sequence_count, modified_sequences, random_motif, random_positions, profile_matrix)\n",
        "\n",
        "  # End the timer to stop and save the total generation time\n",
        "  end_time = time.perf_counter()\n",
        "  sequence_generation_times.append(round(end_time - start_time, 2))\n",
        "  print(\"**********************************\")\n"
      ],
      "metadata": {
        "id": "7-c_yQu94oT2",
        "colab": {
          "base_uri": "https://localhost:8080/"
        },
        "outputId": "204b75c8-47eb-4edb-c693-9eb0a8d642d6"
      },
      "execution_count": 17,
      "outputs": [
        {
          "output_type": "stream",
          "name": "stdout",
          "text": [
            "\n",
            "No. of motifs:  1000\n",
            "A motif looks like:  TTCACGGAGGCAACGCGGTTTCCGATCGTG\n",
            "\n",
            "No. of rows in profile_matrix:  30\n",
            "No. of columns in profile matrix:  4\n",
            "A sample row in profile matrix looks like:  [58, 67, 812, 63] \n",
            "\n",
            "**********************************\n",
            "\n",
            "No. of motifs:  5000\n",
            "A motif looks like:  TTCACCGGGCCCACCCAGAGAAAGGTAGAG\n",
            "\n",
            "No. of rows in profile_matrix:  30\n",
            "No. of columns in profile matrix:  4\n",
            "A sample row in profile matrix looks like:  [299, 314, 4076, 311] \n",
            "\n",
            "**********************************\n",
            "\n",
            "No. of motifs:  10000\n",
            "A motif looks like:  TTAAGAGAGACCTCGCTGGGTACGATCGAA\n",
            "\n",
            "No. of rows in profile_matrix:  30\n",
            "No. of columns in profile matrix:  4\n",
            "A sample row in profile matrix looks like:  [636, 612, 8173, 579] \n",
            "\n",
            "**********************************\n",
            "\n",
            "No. of motifs:  50000\n",
            "A motif looks like:  TTCACCGAGTCCACGCCGAGTACGATCGAG\n",
            "\n",
            "No. of rows in profile_matrix:  30\n",
            "No. of columns in profile matrix:  4\n",
            "A sample row in profile matrix looks like:  [3234, 3041, 40728, 2997] \n",
            "\n",
            "**********************************\n",
            "\n",
            "No. of motifs:  100000\n",
            "A motif looks like:  GTCGCCTAGGCCACGCGGAGTATGGTCGAG\n",
            "\n",
            "No. of rows in profile_matrix:  30\n",
            "No. of columns in profile matrix:  4\n",
            "A sample row in profile matrix looks like:  [6076, 6141, 81564, 6219] \n",
            "\n",
            "**********************************\n"
          ]
        }
      ]
    },
    {
      "cell_type": "code",
      "source": [
        "# Plot the generation times and sequence_count to visualize data generation times\n",
        "visualize_sequence_generation_times(sequence_generation_times, sequence_counts)\n"
      ],
      "metadata": {
        "id": "uIc-otBz7ZzF",
        "colab": {
          "base_uri": "https://localhost:8080/",
          "height": 295
        },
        "outputId": "d7f0a753-3a74-4064-ebfa-6e2174768f8e"
      },
      "execution_count": 18,
      "outputs": [
        {
          "output_type": "display_data",
          "data": {
            "text/plain": [
              "<Figure size 432x288 with 1 Axes>"
            ],
            "image/png": "[encoded data removed]"
          },
          "metadata": {
            "needs_background": "light"
          }
        }
      ]
    },
    {
      "cell_type": "code",
      "execution_count": 19,
      "metadata": {
        "id": "GuUEcjDWr-n6",
        "colab": {
          "base_uri": "https://localhost:8080/"
        },
        "outputId": "a59925ba-5bdf-4471-e69e-d08092b94022"
      },
      "outputs": [
        {
          "output_type": "stream",
          "name": "stdout",
          "text": [
            "\n",
            "No. of DNA sequences:  1000\n",
            "Iterations to be completed:  100\n",
            "Completed  100  iterations\n",
            "Motif discovered:  CCGTGTCCGTGGGGC \n",
            "\n",
            "**********************************\n",
            "\n",
            "No. of DNA sequences:  5000\n",
            "Iterations to be completed:  100\n",
            "Completed  100  iterations\n",
            "Motif discovered:  ACGAGCGGTCGTCCG \n",
            "\n",
            "**********************************\n",
            "\n",
            "No. of DNA sequences:  10000\n",
            "Iterations to be completed:  100\n",
            "Completed  100  iterations\n",
            "Motif discovered:  GGTGTTGTGAACTCC \n",
            "\n",
            "**********************************\n",
            "\n",
            "No. of DNA sequences:  50000\n",
            "Iterations to be completed:  100\n",
            "Completed  100  iterations\n",
            "Motif discovered:  GGGCGTTAACTATGT \n",
            "\n",
            "**********************************\n",
            "\n",
            "No. of DNA sequences:  100000\n",
            "Iterations to be completed:  100\n",
            "Completed  100  iterations\n",
            "Motif discovered:  TCGCCTAGAACCTTC \n",
            "\n",
            "**********************************\n"
          ]
        }
      ],
      "source": [
        "# Executing Gibbs algorithm and store motif results obtained\n",
        "motif_results, motif_detection_times = [], []\n",
        "profile_matrices, all_dna_sequences = [], []\n",
        "idx = 0\n",
        "\n",
        "for sequence_count in sequence_counts:\n",
        "\n",
        "  # Start the timer to track motif detection times\n",
        "  start_time = time.perf_counter()\n",
        "\n",
        "  # Read DNA data from input files\n",
        "  dna_sequences = read_sequences_from_input_file(covid_data_path, sequence_count)\n",
        "  all_dna_sequences.append(dna_sequences)\n",
        "  \n",
        "  no_of_seqs = len(dna_sequences)\n",
        "  print(\"\\nNo. of DNA sequences: \", no_of_seqs)\n",
        "\n",
        "  # As in Gibbs sampling, we select random starting points and \n",
        "  # generate motif site for all the remaining sequences\n",
        "  motif_sites = []\n",
        "  for i in range(0, no_of_seqs-1):\n",
        "    random_start_site = random.randrange(0, sequence_length - motif_length_to_find)\n",
        "    motif_sites.append(random_start_site)\n",
        "\n",
        "  # Implementing Gibbs algorithm with several iterations\n",
        "  iterations =  100\n",
        "  info_content, pwm, information_vector = compute_max_pwm_and_ic(iterations, dna_sequences, motif_length_to_find, sequence_length, motif_sites)\n",
        "  motif_result, profile_matrix = find_motif_from_pwm(pwm, no_of_seqs, motif_length_to_find)\n",
        "  motif_results.append(motif_result)\n",
        "  profile_matrices.append(profile_matrix)\n",
        "  save_prediction_results_to_respective_files(result_path, motif_result, sequence_count, information_vector, profile_matrix)\n",
        "\n",
        "  # Analyzing the results obtained\n",
        "  print(\"Motif discovered: \", motif_results[idx], \"\\n\")\n",
        "  idx += 1\n",
        "\n",
        "  # End the timer to track motif detection times\n",
        "  end_time = time.perf_counter()\n",
        "  motif_detection_times.append(round(end_time - start_time, 2))\n",
        "  print(\"**********************************\")\n"
      ]
    },
    {
      "cell_type": "code",
      "source": [
        "# Plot the motif detection times and sequence_count for visualization\n",
        "visualize_motif_generation_times(motif_detection_times, sequence_counts)\n"
      ],
      "metadata": {
        "colab": {
          "base_uri": "https://localhost:8080/",
          "height": 295
        },
        "id": "mkFTby2JDPCr",
        "outputId": "b2ffd191-0c38-42cc-fa62-f4f07c522ece"
      },
      "execution_count": 20,
      "outputs": [
        {
          "output_type": "display_data",
          "data": {
            "text/plain": [
              "<Figure size 432x288 with 1 Axes>"
            ],
            "image/png": "[encoded data removed]"
          },
          "metadata": {
            "needs_background": "light"
          }
        }
      ]
    },
    {
      "cell_type": "code",
      "execution_count": 21,
      "metadata": {
        "id": "gJ5aZi7rHPeN",
        "colab": {
          "base_uri": "https://localhost:8080/"
        },
        "outputId": "ca82e93c-348f-41b8-8002-fca5f54bcffd"
      },
      "outputs": [
        {
          "output_type": "stream",
          "name": "stdout",
          "text": [
            "Original motif counts:\n",
            "[67, 54, 54, 54, 73] for  1000  dna sequences\n",
            "[331, 309, 340, 340, 316] for  5000  dna sequences\n",
            "[616, 617, 611, 611, 662] for  10000  dna sequences\n",
            "[3173, 3109, 3074, 3074, 3070] for  50000  dna sequences\n",
            "[6275, 6254, 6257, 6257, 6248] for  100000  dna sequences\n",
            "\n",
            "\n",
            "Normalized motif counts:\n",
            "[0.067, 0.054, 0.054, 0.054, 0.073]\n",
            "[0.0662, 0.0618, 0.068, 0.068, 0.0632]\n",
            "[0.0616, 0.0617, 0.0611, 0.0611, 0.0662]\n",
            "[0.06346, 0.06218, 0.06148, 0.06148, 0.0614]\n",
            "[0.06275, 0.06254, 0.06257, 0.06257, 0.06248]\n",
            "\n",
            "\n",
            "In the dataset,  5.4 % of records matched well with the COVID motif\n",
            "Hence, we can specualte that those individuals need immediate medical supervision\n"
          ]
        }
      ],
      "source": [
        "# Finding percentage match between motif and the DNA sequences\n",
        "motif_counts = find_count_of_threshold_matched_sequences(all_dna_sequences, motif_results)\n",
        "normalized_motif_counts = compute_normalized_motif_counts(motif_counts)\n",
        "\n",
        "# FInding the mode to see the common amount of match\n",
        "total_percent_counts = []\n",
        "for key in normalized_motif_counts.keys():\n",
        "  for each_percent in normalized_motif_counts[key]:\n",
        "    total_percent_counts.append(each_percent)\n",
        "\n",
        "max_data_percent_matched = Counter(total_percent_counts)\n",
        "max_value = max_data_percent_matched.most_common(1)\n",
        "max_count = max_value[0][0]\n",
        "print(\"\\n\\nIn the dataset, \", (max_count * 100), \"% of records matched well with the COVID motif\")\n",
        "print(\"Hence, we can specualte that those individuals need immediate medical supervision\")\n"
      ]
    },
    {
      "cell_type": "code",
      "source": [
        "# Visualization\n",
        "plot_motif_match_observations(motif_results, normalized_motif_counts)\n"
      ],
      "metadata": {
        "colab": {
          "base_uri": "https://localhost:8080/",
          "height": 1000
        },
        "id": "yUi05S17AODc",
        "outputId": "f0ee43ba-9ae2-4e83-9c44-b25145b9c7c3"
      },
      "execution_count": 22,
      "outputs": [
        {
          "output_type": "display_data",
          "data": {
            "text/plain": [
              "<Figure size 576x360 with 1 Axes>"
            ],
            "image/png": "[encoded data removed]"
          },
          "metadata": {
            "needs_background": "light"
          }
        },
        {
          "output_type": "display_data",
          "data": {
            "text/plain": [
              "<Figure size 576x360 with 1 Axes>"
            ],
            "image/png": "[encoded data removed]"
          },
          "metadata": {
            "needs_background": "light"
          }
        },
        {
          "output_type": "display_data",
          "data": {
            "text/plain": [
              "<Figure size 576x360 with 1 Axes>"
            ],
            "image/png": "[encoded data removed]"
          },
          "metadata": {
            "needs_background": "light"
          }
        },
        {
          "output_type": "display_data",
          "data": {
            "text/plain": [
              "<Figure size 576x360 with 1 Axes>"
            ],
            "image/png": "[encoded data removed]"
          },
          "metadata": {
            "needs_background": "light"
          }
        },
        {
          "output_type": "display_data",
          "data": {
            "text/plain": [
              "<Figure size 576x360 with 1 Axes>"
            ],
            "image/png": "[encoded data removed]"
          },
          "metadata": {
            "needs_background": "light"
          }
        }
      ]
    }
  ],
  "metadata": {
    "colab": {
      "provenance": []
    },
    "kernelspec": {
      "display_name": "Python 3",
      "name": "python3"
    },
    "language_info": {
      "name": "python"
    }
  },
  "nbformat": 4,
  "nbformat_minor": 0
}