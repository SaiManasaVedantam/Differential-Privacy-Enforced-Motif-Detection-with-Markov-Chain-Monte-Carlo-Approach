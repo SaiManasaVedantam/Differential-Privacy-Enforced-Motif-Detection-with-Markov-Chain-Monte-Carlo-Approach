{
  "cells": [
    {
      "cell_type": "markdown",
      "metadata": {
        "id": "j1f9X29RBmx5"
      },
      "source": [
        "### Implementing Markov Chain Monte Carlo approach's Gibbs Sampling on generated data"
      ]
    },
    {
      "cell_type": "code",
      "source": [
        "# Install required packages\n",
        "!pip install ipynb\n",
        "!pip install import-ipynb"
      ],
      "metadata": {
        "id": "ra10z2ueCxKo",
        "colab": {
          "base_uri": "https://localhost:8080/"
        },
        "outputId": "ba62a3c0-2df1-4fda-c6a6-afcd390bb16a"
      },
      "execution_count": 1,
      "outputs": [
        {
          "output_type": "stream",
          "name": "stdout",
          "text": [
            "Looking in indexes: https://pypi.org/simple, https://us-python.pkg.dev/colab-wheels/public/simple/\n",
            "Requirement already satisfied: import-ipynb in /usr/local/lib/python3.7/dist-packages (0.1.4)\n",
            "Requirement already satisfied: IPython in /usr/local/lib/python3.7/dist-packages (from import-ipynb) (7.9.0)\n",
            "Requirement already satisfied: nbformat in /usr/local/lib/python3.7/dist-packages (from import-ipynb) (5.7.0)\n",
            "Requirement already satisfied: prompt-toolkit<2.1.0,>=2.0.0 in /usr/local/lib/python3.7/dist-packages (from IPython->import-ipynb) (2.0.10)\n",
            "Requirement already satisfied: backcall in /usr/local/lib/python3.7/dist-packages (from IPython->import-ipynb) (0.2.0)\n",
            "Requirement already satisfied: jedi>=0.10 in /usr/local/lib/python3.7/dist-packages (from IPython->import-ipynb) (0.18.2)\n",
            "Requirement already satisfied: pygments in /usr/local/lib/python3.7/dist-packages (from IPython->import-ipynb) (2.6.1)\n",
            "Requirement already satisfied: pickleshare in /usr/local/lib/python3.7/dist-packages (from IPython->import-ipynb) (0.7.5)\n",
            "Requirement already satisfied: pexpect in /usr/local/lib/python3.7/dist-packages (from IPython->import-ipynb) (4.8.0)\n",
            "Requirement already satisfied: setuptools>=18.5 in /usr/local/lib/python3.7/dist-packages (from IPython->import-ipynb) (57.4.0)\n",
            "Requirement already satisfied: decorator in /usr/local/lib/python3.7/dist-packages (from IPython->import-ipynb) (4.4.2)\n",
            "Requirement already satisfied: traitlets>=4.2 in /usr/local/lib/python3.7/dist-packages (from IPython->import-ipynb) (5.1.1)\n",
            "Requirement already satisfied: parso<0.9.0,>=0.8.0 in /usr/local/lib/python3.7/dist-packages (from jedi>=0.10->IPython->import-ipynb) (0.8.3)\n",
            "Requirement already satisfied: six>=1.9.0 in /usr/local/lib/python3.7/dist-packages (from prompt-toolkit<2.1.0,>=2.0.0->IPython->import-ipynb) (1.15.0)\n",
            "Requirement already satisfied: wcwidth in /usr/local/lib/python3.7/dist-packages (from prompt-toolkit<2.1.0,>=2.0.0->IPython->import-ipynb) (0.2.5)\n",
            "Requirement already satisfied: jsonschema>=2.6 in /usr/local/lib/python3.7/dist-packages (from nbformat->import-ipynb) (4.3.3)\n",
            "Requirement already satisfied: jupyter-core in /usr/local/lib/python3.7/dist-packages (from nbformat->import-ipynb) (4.11.2)\n",
            "Requirement already satisfied: importlib-metadata>=3.6 in /usr/local/lib/python3.7/dist-packages (from nbformat->import-ipynb) (4.13.0)\n",
            "Requirement already satisfied: fastjsonschema in /usr/local/lib/python3.7/dist-packages (from nbformat->import-ipynb) (2.16.2)\n",
            "Requirement already satisfied: typing-extensions>=3.6.4 in /usr/local/lib/python3.7/dist-packages (from importlib-metadata>=3.6->nbformat->import-ipynb) (4.1.1)\n",
            "Requirement already satisfied: zipp>=0.5 in /usr/local/lib/python3.7/dist-packages (from importlib-metadata>=3.6->nbformat->import-ipynb) (3.10.0)\n",
            "Requirement already satisfied: attrs>=17.4.0 in /usr/local/lib/python3.7/dist-packages (from jsonschema>=2.6->nbformat->import-ipynb) (22.1.0)\n",
            "Requirement already satisfied: pyrsistent!=0.17.0,!=0.17.1,!=0.17.2,>=0.14.0 in /usr/local/lib/python3.7/dist-packages (from jsonschema>=2.6->nbformat->import-ipynb) (0.19.2)\n",
            "Requirement already satisfied: importlib-resources>=1.4.0 in /usr/local/lib/python3.7/dist-packages (from jsonschema>=2.6->nbformat->import-ipynb) (5.10.0)\n",
            "Requirement already satisfied: ptyprocess>=0.5 in /usr/local/lib/python3.7/dist-packages (from pexpect->IPython->import-ipynb) (0.7.0)\n"
          ]
        }
      ]
    },
    {
      "cell_type": "code",
      "execution_count": 47,
      "metadata": {
        "id": "OApP65IfXype"
      },
      "outputs": [],
      "source": [
        "# Import necessary libraries\n",
        "import random\n",
        "import numpy as np\n",
        "import time\n",
        "import math\n",
        "from google.colab import drive\n",
        "import matplotlib.pyplot as plt"
      ]
    },
    {
      "cell_type": "code",
      "source": [
        "# Define path to fetch the ipynb file\n",
        "import sys\n",
        "sys.path.insert(1, r'/content/drive/MyDrive/Motif-Detection/Py-files/Utils/')\n",
        "\n",
        "# Import ipynb needed to access required functions\n",
        "import import_ipynb\n",
        "from info_content_ops import compute_information_content\n",
        "from file_io import read_sequences_from_input_file, save_prediction_results_to_respective_files\n",
        "from visualization import find_count_of_threshold_matched_sequences, compute_normalized_motif_counts\n"
      ],
      "metadata": {
        "id": "CxLAjZQrBliV"
      },
      "execution_count": 46,
      "outputs": []
    },
    {
      "cell_type": "code",
      "execution_count": 4,
      "metadata": {
        "id": "JJzZwlv_YRRI"
      },
      "outputs": [],
      "source": [
        "# Function to compute the Position Weight Matrix (PWM) for N-1 sequences\n",
        "# Input: dna_seqeunces, no_of_sequences, motif_length, sequence_length, motif_sites \n",
        "# Output: Returns pwm and ignored sequence\n",
        "\n",
        "def compute_position_weight_matrix(dna_seqs, no_of_seqs, motif_len, seq_len, motif_sites):\n",
        "\n",
        "  # To ignore a sequence, we generate a random number\n",
        "  random.seed(time.time())\n",
        "  ignored_seq = random.randrange(0, no_of_seqs)\n",
        "\n",
        "  # Calculating the PWM\n",
        "  # Rows: 4 representing A, G, T, C respectively\n",
        "  # Columns: As many as the motif length\n",
        "  pwm = np.zeros((4, motif_len))\n",
        "\n",
        "  # Indexing the N-1 sequences\n",
        "  idx = 0\n",
        "\n",
        "  for seq_idx in range(0, no_of_seqs):\n",
        "\n",
        "    # We ignore the previously selected random sequence\n",
        "    if seq_idx == ignored_seq:\n",
        "        continue\n",
        "\n",
        "    else:\n",
        "      for m_len in range(0, motif_len):\n",
        "        value = dna_seqs[seq_idx][motif_sites[idx] + m_len]\n",
        "        if value == nucleotides[0]:\n",
        "          pwm[0][m_len] += 1\n",
        "        elif value == nucleotides[1]:\n",
        "          pwm[1][m_len] += 1\n",
        "        elif value == nucleotides[2]:\n",
        "          pwm[2][m_len] += 1\n",
        "        elif value == nucleotides[3]:\n",
        "          pwm[3][m_len] += 1\n",
        "    idx += 1\n",
        "\n",
        "  return pwm/(no_of_seqs - 1), ignored_seq\n"
      ]
    },
    {
      "cell_type": "code",
      "execution_count": 5,
      "metadata": {
        "id": "GeG6yH3zuxZt"
      },
      "outputs": [],
      "source": [
        "# Function to find max PWM and max info content\n",
        "# Input: iterations, dna_sequences, motif_length, sequence_length, motif_sites\n",
        "# Output: Returns information content, pwm and information vector\n",
        "\n",
        "def compute_max_pwm_and_ic(iterations, dna_sequences, motif_length, sequence_length, motif_sites, acceptable_info_content = 1.7):\n",
        "\n",
        "  # Declaring required variables\n",
        "  added_prediction, max_info_content, iter_count = False, 0, 0\n",
        "  information_vector = [['IC'], ['sites']]\n",
        "  no_of_seqs = len(dna_sequences)\n",
        "  \n",
        "  print(\"Iterations to be completed: \", iterations)\n",
        "\n",
        "  # Runs multiple iterations to obtain right values\n",
        "  for iteration in range(0, iterations):\n",
        "    \n",
        "    # Tracking iterations\n",
        "    iter_count += 1\n",
        "    if iter_count % 100 == 0:\n",
        "      print(\"Completed \", iter_count, \" iterations\")\n",
        "\n",
        "    # Finding the Position Weight Matrix (PWM) for N-1 sequences\n",
        "    pwm, ignored_seq = compute_position_weight_matrix(dna_sequences, no_of_seqs, motif_length, sequence_length, motif_sites)\n",
        "\n",
        "    # Predicting the site in the ignored sequence using the PWM\n",
        "    predicted_site_in_ignored_seq = predict_motif_site_in_ignored_seq(dna_sequences, ignored_seq, pwm, motif_length, sequence_length)\n",
        "\n",
        "    # Adding the predicted site to the list if it is not yet added\n",
        "    if added_prediction == False:\n",
        "      motif_sites.insert(ignored_seq, predicted_site_in_ignored_seq)\n",
        "      added_prediction = True\n",
        "    else:\n",
        "      motif_sites[ignored_seq] = predicted_site_in_ignored_seq\n",
        "    motif_sites_temp = motif_sites[:]\n",
        "\n",
        "    # Computing the information content of the prediction in the current iteration\n",
        "    information_vector[1].append(motif_sites_temp)\n",
        "    info_content, pwm = compute_information_content(nucleotides, freq, motif_sites, dna_sequences, motif_length, no_of_seqs, pwm)\n",
        "    information_vector[0].append(info_content)\n",
        "\n",
        "    # Updating max. information content value\n",
        "    if info_content > max_info_content:\n",
        "      max_info_content = info_content\n",
        "      max_pwm = pwm\n",
        "\n",
        "    if info_content > (acceptable_info_content * motif_length):\n",
        "      break\n",
        "\n",
        "  # Updating info_content & pwm with the max. values respectively\n",
        "  info_content = max_info_content\n",
        "  pwm = max_pwm\n",
        "  \n",
        "  return info_content, max_pwm, information_vector\n"
      ]
    },
    {
      "cell_type": "code",
      "source": [
        "# Function to predict the motif_site in ignored sequence using the Position Weight Matrix\n",
        "# Input: dna_seqeunces, ignored_seq, pwm, motif_length, sequence_length\n",
        "# Output: Returns the predicted site\n",
        "\n",
        "def predict_motif_site_in_ignored_seq(dna_sequences, ignored_seq, pwm, motif_len, sequence_len):\n",
        "\n",
        "  # Obtaining all possible prediction candidates of given motif length\n",
        "  prediction_candidates = []\n",
        "  for i in range(0, sequence_len - motif_len + 1):\n",
        "    prediction_candidates.append((dna_sequences[ignored_seq])[i:i + motif_len])\n",
        "\n",
        "  # Generating probabilities for all candidates to find the best possible prediction\n",
        "  candidate_probabilities = []\n",
        "  for pred_idx in range(0, len(prediction_candidates)):\n",
        "    frequency, weighted_frequency = 1, 1\n",
        "\n",
        "    for m_len in range(0, motif_len):\n",
        "      value = prediction_candidates[pred_idx][m_len]\n",
        "      if value == nucleotides[0]:\n",
        "        frequency *= freq[0]\n",
        "        weighted_frequency *= pwm[0][m_len]\n",
        "      elif value == nucleotides[1]:\n",
        "        frequency *= freq[1]\n",
        "        weighted_frequency *= pwm[1][m_len]\n",
        "      elif value == nucleotides[2]:\n",
        "        frequency *= freq[2]\n",
        "        weighted_frequency *= pwm[2][m_len]\n",
        "      elif value == nucleotides[3]:\n",
        "        frequency *= freq[3]\n",
        "        weighted_frequency *= pwm[3][m_len]\n",
        "    candidate_probabilities.append(weighted_frequency / frequency)\n",
        "\n",
        "  # Normalizing the probabilities to obtain the predicted site\n",
        "  normalized_probabilities = list(candidate_probabilities / sum(candidate_probabilities))\n",
        "  predicted_site = normalized_probabilities.index(max(normalized_probabilities))\n",
        "  return predicted_site\n"
      ],
      "metadata": {
        "id": "OnNjoFBQOjCI"
      },
      "execution_count": 6,
      "outputs": []
    },
    {
      "cell_type": "code",
      "execution_count": 7,
      "metadata": {
        "id": "XsO3SACnRhVu"
      },
      "outputs": [],
      "source": [
        "# Function to find motif from pwm using the sequences and motif length\n",
        "# Input: pwm, no_of_seqs, motif_length\n",
        "# Output: Returns motif result and profile matrix\n",
        "\n",
        "def find_motif_from_pwm(pwm, no_of_seqs, motif_length):\n",
        "\n",
        "  # Obtaining the motif from given dna sequences using Position Weight Matrix\n",
        "  profile_matrix = np.transpose(pwm) * no_of_seqs\n",
        "  motif_temp = []\n",
        "  for m_len in range(0, motif_length):\n",
        "    values_at_mlen = list(profile_matrix[m_len])\n",
        "    max_value = max(values_at_mlen)\n",
        "\n",
        "    # As two nucleotides may have equal probability of occurrence, we check if the max_value appears more than once\n",
        "    max_value_indices = []\n",
        "    for idx in range(0, len(values_at_mlen)):\n",
        "      if values_at_mlen[idx] == max_value:\n",
        "        max_value_indices.append(idx)\n",
        "    \n",
        "    if len(max_value_indices) > 1:\n",
        "      motif_index = random.choice(max_value_indices)\n",
        "    else:\n",
        "      motif_index = values_at_mlen.index(max(values_at_mlen))\n",
        "    \n",
        "    motif_temp.append(nucleotides[motif_index])\n",
        "  motif_result = ''.join(motif_temp)\n",
        "\n",
        "  return motif_result, profile_matrix\n"
      ]
    },
    {
      "cell_type": "code",
      "source": [
        "# Function to plot the motif match observations made\n",
        "# Input: motif_results, normalized_motif_counts\n",
        "# Output: Displays different bar graphs for various input sizes\n",
        "\n",
        "def plot_motif_match_observations(motif_results, normalized_motif_counts):\n",
        "  \n",
        "  # Plotting normalized motif counts across the dna sequences considered\n",
        "  colors = ['green', 'orange', 'olive', 'purple', 'maroon']\n",
        "  idx = 0\n",
        "\n",
        "  for key in normalized_motif_counts:\n",
        "    x_axis = motif_results\n",
        "    y_axis = normalized_motif_counts[key]\n",
        "    \n",
        "    bar_chart = plt.figure(figsize = (8, 5))\n",
        "    plt.bar(x_axis, y_axis, color = colors[idx])\n",
        "    plt.yticks(np.arange(0, 0.10, 0.02))\n",
        "    plt.xlabel(\"Motifs found\")\n",
        "    plt.ylabel(\"Dna sequences which matched atleast 50% of motif_length\")\n",
        "    plt.title(\"Plot for \" + str(key) + \" sequences\")\n",
        "    \n",
        "    idx += 1\n",
        "    plt.show()\n"
      ],
      "metadata": {
        "id": "RDeXQY2ewG_f"
      },
      "execution_count": 48,
      "outputs": []
    },
    {
      "cell_type": "code",
      "execution_count": 8,
      "metadata": {
        "colab": {
          "base_uri": "https://localhost:8080/"
        },
        "id": "kNtSLSztgeze",
        "outputId": "89c019b6-c430-49bd-87b8-bb586b450768"
      },
      "outputs": [
        {
          "output_type": "stream",
          "name": "stdout",
          "text": [
            "Drive already mounted at /content/drive; to attempt to forcibly remount, call drive.mount(\"/content/drive\", force_remount=True).\n"
          ]
        }
      ],
      "source": [
        "# Establish connection to use Google drive\n",
        "drive.mount(\"/content/drive\")\n",
        "base_path = \"drive/MyDrive/Motif-Detection/Data/\"\n"
      ]
    },
    {
      "cell_type": "code",
      "execution_count": 9,
      "metadata": {
        "id": "dwb6o_kJZ0Ei"
      },
      "outputs": [],
      "source": [
        "# Define required variables\n",
        "nucleotides = ['A','G','T','C']\n",
        "freq = [0.25, 0.25, 0.25, 0.25]\n",
        "sequence_length = 300   # Fixed: As the DNA contains 150 base pairs in general\n",
        "motif_length = 10   # Motifs are generally 5-20 pairs long\n",
        "sequence_counts = [1000, 5000, 10000, 50000, 100000]\n"
      ]
    },
    {
      "cell_type": "code",
      "execution_count": 10,
      "metadata": {
        "colab": {
          "base_uri": "https://localhost:8080/"
        },
        "id": "GuUEcjDWr-n6",
        "outputId": "2044084f-4753-4514-a83f-e32254eaf87a"
      },
      "outputs": [
        {
          "output_type": "stream",
          "name": "stdout",
          "text": [
            "\n",
            "\n",
            "**********************\n",
            "No. of DNA sequences:  1000\n",
            "Iterations to be completed:  100\n",
            "Completed  100  iterations\n",
            "Motif discovered:  CTACCCGTGC \n",
            "\n",
            "\n",
            "\n",
            "**********************\n",
            "No. of DNA sequences:  5000\n",
            "Iterations to be completed:  500\n",
            "Completed  100  iterations\n",
            "Completed  200  iterations\n",
            "Completed  300  iterations\n",
            "Completed  400  iterations\n",
            "Completed  500  iterations\n",
            "Motif discovered:  CTCACTGGTG \n",
            "\n",
            "\n",
            "\n",
            "**********************\n",
            "No. of DNA sequences:  10000\n",
            "Iterations to be completed:  1000\n",
            "Completed  100  iterations\n",
            "Completed  200  iterations\n",
            "Completed  300  iterations\n",
            "Completed  400  iterations\n",
            "Completed  500  iterations\n",
            "Completed  600  iterations\n",
            "Completed  700  iterations\n",
            "Completed  800  iterations\n",
            "Completed  900  iterations\n",
            "Completed  1000  iterations\n",
            "Motif discovered:  TTGACCTATA \n",
            "\n",
            "\n",
            "\n",
            "**********************\n",
            "No. of DNA sequences:  50000\n",
            "Iterations to be completed:  5000\n",
            "Completed  100  iterations\n",
            "Completed  200  iterations\n",
            "Completed  300  iterations\n",
            "Completed  400  iterations\n",
            "Completed  500  iterations\n",
            "Completed  600  iterations\n",
            "Completed  700  iterations\n",
            "Completed  800  iterations\n",
            "Completed  900  iterations\n",
            "Completed  1000  iterations\n",
            "Completed  1100  iterations\n",
            "Completed  1200  iterations\n",
            "Completed  1300  iterations\n",
            "Completed  1400  iterations\n",
            "Completed  1500  iterations\n",
            "Completed  1600  iterations\n",
            "Completed  1700  iterations\n",
            "Completed  1800  iterations\n",
            "Completed  1900  iterations\n",
            "Completed  2000  iterations\n",
            "Completed  2100  iterations\n",
            "Completed  2200  iterations\n",
            "Completed  2300  iterations\n",
            "Completed  2400  iterations\n",
            "Completed  2500  iterations\n",
            "Completed  2600  iterations\n",
            "Completed  2700  iterations\n",
            "Completed  2800  iterations\n",
            "Completed  2900  iterations\n",
            "Completed  3000  iterations\n",
            "Completed  3100  iterations\n",
            "Completed  3200  iterations\n",
            "Completed  3300  iterations\n",
            "Completed  3400  iterations\n",
            "Completed  3500  iterations\n",
            "Completed  3600  iterations\n",
            "Completed  3700  iterations\n",
            "Completed  3800  iterations\n",
            "Completed  3900  iterations\n",
            "Completed  4000  iterations\n",
            "Completed  4100  iterations\n",
            "Completed  4200  iterations\n",
            "Completed  4300  iterations\n",
            "Completed  4400  iterations\n",
            "Completed  4500  iterations\n",
            "Completed  4600  iterations\n",
            "Completed  4700  iterations\n",
            "Completed  4800  iterations\n",
            "Completed  4900  iterations\n",
            "Completed  5000  iterations\n",
            "Motif discovered:  CTTGCTCAGG \n",
            "\n",
            "\n",
            "\n",
            "**********************\n",
            "No. of DNA sequences:  100000\n",
            "Iterations to be completed:  10000\n",
            "Completed  100  iterations\n",
            "Completed  200  iterations\n",
            "Completed  300  iterations\n",
            "Completed  400  iterations\n",
            "Completed  500  iterations\n",
            "Completed  600  iterations\n",
            "Completed  700  iterations\n",
            "Completed  800  iterations\n",
            "Completed  900  iterations\n",
            "Completed  1000  iterations\n",
            "Completed  1100  iterations\n",
            "Completed  1200  iterations\n",
            "Completed  1300  iterations\n",
            "Completed  1400  iterations\n",
            "Completed  1500  iterations\n",
            "Completed  1600  iterations\n",
            "Completed  1700  iterations\n",
            "Completed  1800  iterations\n",
            "Completed  1900  iterations\n",
            "Completed  2000  iterations\n",
            "Completed  2100  iterations\n",
            "Completed  2200  iterations\n",
            "Completed  2300  iterations\n",
            "Completed  2400  iterations\n",
            "Completed  2500  iterations\n",
            "Completed  2600  iterations\n",
            "Completed  2700  iterations\n",
            "Completed  2800  iterations\n",
            "Completed  2900  iterations\n",
            "Completed  3000  iterations\n",
            "Completed  3100  iterations\n",
            "Completed  3200  iterations\n",
            "Completed  3300  iterations\n",
            "Completed  3400  iterations\n",
            "Completed  3500  iterations\n",
            "Completed  3600  iterations\n",
            "Completed  3700  iterations\n",
            "Completed  3800  iterations\n",
            "Completed  3900  iterations\n",
            "Completed  4000  iterations\n",
            "Completed  4100  iterations\n",
            "Completed  4200  iterations\n",
            "Completed  4300  iterations\n",
            "Completed  4400  iterations\n",
            "Completed  4500  iterations\n",
            "Completed  4600  iterations\n",
            "Completed  4700  iterations\n",
            "Completed  4800  iterations\n",
            "Completed  4900  iterations\n",
            "Completed  5000  iterations\n",
            "Completed  5100  iterations\n",
            "Completed  5200  iterations\n",
            "Completed  5300  iterations\n",
            "Completed  5400  iterations\n",
            "Completed  5500  iterations\n",
            "Completed  5600  iterations\n",
            "Completed  5700  iterations\n",
            "Completed  5800  iterations\n",
            "Completed  5900  iterations\n",
            "Completed  6000  iterations\n",
            "Completed  6100  iterations\n",
            "Completed  6200  iterations\n",
            "Completed  6300  iterations\n",
            "Completed  6400  iterations\n",
            "Completed  6500  iterations\n",
            "Completed  6600  iterations\n",
            "Completed  6700  iterations\n",
            "Completed  6800  iterations\n",
            "Completed  6900  iterations\n",
            "Completed  7000  iterations\n",
            "Completed  7100  iterations\n",
            "Completed  7200  iterations\n",
            "Completed  7300  iterations\n",
            "Completed  7400  iterations\n",
            "Completed  7500  iterations\n",
            "Completed  7600  iterations\n",
            "Completed  7700  iterations\n",
            "Completed  7800  iterations\n",
            "Completed  7900  iterations\n",
            "Completed  8000  iterations\n",
            "Completed  8100  iterations\n",
            "Completed  8200  iterations\n",
            "Completed  8300  iterations\n",
            "Completed  8400  iterations\n",
            "Completed  8500  iterations\n",
            "Completed  8600  iterations\n",
            "Completed  8700  iterations\n",
            "Completed  8800  iterations\n",
            "Completed  8900  iterations\n",
            "Completed  9000  iterations\n",
            "Completed  9100  iterations\n",
            "Completed  9200  iterations\n",
            "Completed  9300  iterations\n",
            "Completed  9400  iterations\n",
            "Completed  9500  iterations\n",
            "Completed  9600  iterations\n",
            "Completed  9700  iterations\n",
            "Completed  9800  iterations\n",
            "Completed  9900  iterations\n",
            "Completed  10000  iterations\n",
            "Motif discovered:  CGAAGGGGAG \n",
            "\n"
          ]
        }
      ],
      "source": [
        "# Executing Gibbs algorithm and store motif results obtained\n",
        "motif_results, profile_matrices, all_dna_sequences = [], [], []\n",
        "idx = 0\n",
        "\n",
        "for sequence_count in sequence_counts:\n",
        "\n",
        "  # Read DNA data from input files\n",
        "  dna_sequences = read_sequences_from_input_file(base_path, sequence_count)\n",
        "  all_dna_sequences.append(dna_sequences)\n",
        "  \n",
        "  no_of_seqs = len(dna_sequences)\n",
        "  print(\"\\n\\n**********************\")\n",
        "  print(\"No. of DNA sequences: \", no_of_seqs)\n",
        "\n",
        "  # As in Gibbs sampling, we select random starting points and \n",
        "  # generate motif site for all the remaining sequences\n",
        "  motif_sites = []\n",
        "  for i in range(0, no_of_seqs-1):\n",
        "    random_start_site = random.randrange(0, sequence_length - motif_length)\n",
        "    motif_sites.append(random_start_site)\n",
        "\n",
        "  # Implementing Gibbs algorithm with several iterations\n",
        "  iterations =  int(sequence_count / 10)\n",
        "  info_content, pwm, information_vector = compute_max_pwm_and_ic(iterations, dna_sequences, motif_length, sequence_length, motif_sites)\n",
        "  motif_result, profile_matrix = find_motif_from_pwm(pwm, no_of_seqs, motif_length)\n",
        "  motif_results.append(motif_result)\n",
        "  profile_matrices.append(profile_matrix)\n",
        "  save_prediction_results_to_respective_files(base_path, motif_result, sequence_count, information_vector, profile_matrix)\n",
        "\n",
        "  # Analyzing the results obtained\n",
        "  print(\"Motif discovered: \", motif_results[idx], \"\\n\")\n",
        "  idx += 1\n"
      ]
    },
    {
      "cell_type": "code",
      "execution_count": 11,
      "metadata": {
        "id": "gJ5aZi7rHPeN",
        "colab": {
          "base_uri": "https://localhost:8080/"
        },
        "outputId": "4d2ecb93-4731-484a-b8f9-115a1771e81d"
      },
      "outputs": [
        {
          "output_type": "stream",
          "name": "stdout",
          "text": [
            "Original motif counts:\n",
            "[57, 57, 56, 57, 66] for  1000  dna sequences\n",
            "[312, 312, 305, 312, 304] for  5000  dna sequences\n",
            "[651, 651, 650, 651, 616] for  10000  dna sequences\n",
            "[3182, 3182, 3101, 3182, 3079] for  50000  dna sequences\n",
            "[6141, 6141, 6395, 6141, 6129] for  100000  dna sequences\n",
            "\n",
            "\n",
            "Normalized motif counts:\n",
            "[0.057, 0.057, 0.056, 0.057, 0.066]\n",
            "[0.0624, 0.0624, 0.061, 0.0624, 0.0608]\n",
            "[0.0651, 0.0651, 0.065, 0.0651, 0.0616]\n",
            "[0.06364, 0.06364, 0.06202, 0.06364, 0.06158]\n",
            "[0.06141, 0.06141, 0.06395, 0.06141, 0.06129]\n"
          ]
        }
      ],
      "source": [
        "# Finding the percentage match between motif and DNA sequences\n",
        "motif_counts = find_count_of_threshold_matched_sequences(all_dna_sequences, motif_results)\n",
        "normalized_motif_counts = compute_normalized_motif_counts(motif_counts)\n"
      ]
    },
    {
      "cell_type": "code",
      "source": [
        "# Visualization\n",
        "plot_motif_match_observations(motif_results, normalized_motif_counts)\n"
      ],
      "metadata": {
        "id": "wAgQnkfKGjAy",
        "colab": {
          "base_uri": "https://localhost:8080/",
          "height": 1000
        },
        "outputId": "fa77fc29-9d2e-407f-8f5e-95e254f47e9a"
      },
      "execution_count": 49,
      "outputs": [
        {
          "output_type": "display_data",
          "data": {
            "text/plain": [
              "<Figure size 576x360 with 1 Axes>"
            ],
            "image/png": "[encoded data removed]"
          },
          "metadata": {
            "needs_background": "light"
          }
        },
        {
          "output_type": "display_data",
          "data": {
            "text/plain": [
              "<Figure size 576x360 with 1 Axes>"
            ],
            "image/png": "[encoded data removed]"
          },
          "metadata": {
            "needs_background": "light"
          }
        },
        {
          "output_type": "display_data",
          "data": {
            "text/plain": [
              "<Figure size 576x360 with 1 Axes>"
            ],
            "image/png": "[encoded data removed]"
          },
          "metadata": {
            "needs_background": "light"
          }
        },
        {
          "output_type": "display_data",
          "data": {
            "text/plain": [
              "<Figure size 576x360 with 1 Axes>"
            ],
            "image/png": "[encoded data removed]"
          },
          "metadata": {
            "needs_background": "light"
          }
        },
        {
          "output_type": "display_data",
          "data": {
            "text/plain": [
              "<Figure size 576x360 with 1 Axes>"
            ],
            "image/png": "[encoded data removed]"
          },
          "metadata": {
            "needs_background": "light"
          }
        }
      ]
    }
  ],
  "metadata": {
    "colab": {
      "provenance": []
    },
    "kernelspec": {
      "display_name": "Python 3",
      "name": "python3"
    },
    "language_info": {
      "name": "python"
    }
  },
  "nbformat": 4,
  "nbformat_minor": 0
}