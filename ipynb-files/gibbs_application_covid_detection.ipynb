{
  "cells": [
    {
      "cell_type": "markdown",
      "metadata": {
        "id": "j1f9X29RBmx5"
      },
      "source": [
        "# Implementing Markov Chain Monte Carlo approach's Gibbs Sampling on generated data"
      ]
    },
    {
      "cell_type": "code",
      "execution_count": 1,
      "metadata": {
        "id": "OApP65IfXype"
      },
      "outputs": [],
      "source": [
        "# Filter warnings\n",
        "import warnings\n",
        "warnings.filterwarnings(\"ignore\")\n",
        "\n",
        "# Import necessary libraries\n",
        "import time\n",
        "import random\n",
        "import numpy as np\n",
        "import math\n",
        "from google.colab import drive\n",
        "import matplotlib.pyplot as plt\n",
        "from difflib import SequenceMatcher\n",
        "from collections import Counter\n"
      ]
    },
    {
      "cell_type": "code",
      "source": [
        "# Function to generate a random sequence of certain length based on nucleotide probabilities\n",
        "# Input: sequence_length (Integer), nucleotide_prob (Integer array of size 4)\n",
        "# Output: sequence (String of length sequence_length)\n",
        "\n",
        "def generate_sequence(sequence_length, nucleotide_prob):\n",
        "\tsequence = []\n",
        "  \n",
        "\tfor i in range(0, sequence_length):\n",
        "\t\trandom_probability = random.random()\n",
        "\t\tif random_probability < nucleotide_prob[0]:\n",
        "\t\t\tsequence.append(nucleotides[0])\n",
        "\t\telif random_probability < nucleotide_prob[0] + nucleotide_prob[1]:\n",
        "\t\t\tsequence.append(nucleotides[1])\n",
        "\t\telif random_probability < nucleotide_prob[0] + nucleotide_prob[1] + nucleotide_prob[2]:\n",
        "\t\t\tsequence.append(nucleotides[2])\n",
        "\t\telse:\n",
        "\t\t\tsequence.append(nucleotides[3])\n",
        "\t \n",
        "\treturn ''.join(sequence)\n",
        " "
      ],
      "metadata": {
        "id": "psKdWngJ6ceX"
      },
      "execution_count": 2,
      "outputs": []
    },
    {
      "cell_type": "code",
      "source": [
        "# Function to plant a randomly chosen motif at a random position in the given sequence\n",
        "# Input: seq_to_modify (String), motifs (Array of motif Strings), motif_length (Integer), \n",
        "# \t\t\t sequence_length (Integer), sequence_count (Integer (Max. no. of motifs available))\n",
        "# Output: modified_sequence (String which is obtained by inserting randomized_motif in seq_to_modify)\n",
        "\n",
        "def plant_motifs_in_sequence(seq_to_modify, motifs, motif_length, sequence_length, sequence_count):\n",
        "\trandom_plant_position = random.randrange(0, sequence_length - motif_length)\n",
        "\trandom_motif_position = random.randrange(0, sequence_count)\n",
        "\tmodified_sequence = seq_to_modify[:random_motif_position] + motifs[random_motif_position] + seq_to_modify[random_motif_position + motif_length:]\n",
        "\t\n",
        "\treturn modified_sequence, random_motif_position\n"
      ],
      "metadata": {
        "id": "MHeiWvZu6fCp"
      },
      "execution_count": 3,
      "outputs": []
    },
    {
      "cell_type": "code",
      "source": [
        "# Function to generate sequence_count no. of random sequences of size sequence_length\n",
        "# Input: sequence_count (Integer), sequence_length (Integer), nucleotide_prob (List)\n",
        "# Output: sequences (List of sequence_count no. of sequences each of sequence_length size)\n",
        "#         generation_time (Float describing the time taken to generate sequences)\n",
        "\n",
        "def generate_sequences_of_given_count(sequence_count, sequence_length, nucleotide_prob):\n",
        "  start_time = time.perf_counter()\n",
        "  sequences = []\n",
        "  \n",
        "  for count in range(0, sequence_count):\n",
        "    generated_sequence = generate_sequence(sequence_length, nucleotide_prob)\n",
        "    sequences.append(generated_sequence)\n",
        "  print(\"\\nNo. of sequences: \", len(sequences))  \n",
        "  print(\"A sample sequence looks like: \", sequences[0])\n",
        "  end_time = time.perf_counter()\n",
        "  generation_time = round(end_time - start_time, 2)\n",
        "\n",
        "  return sequences, generation_time\n",
        "  "
      ],
      "metadata": {
        "id": "kVdcuf8k6hAG"
      },
      "execution_count": 4,
      "outputs": []
    },
    {
      "cell_type": "code",
      "source": [
        "# Function to read data from icpc_p_map.txt to get the probability associated with the Information Content Per Column (ICPC)\n",
        "# Input: file_path (String)\n",
        "# Output: icpc_prob (List containing icpc info)\n",
        "\n",
        "def obtain_info_content_per_column(file_path):\n",
        "  \n",
        "  # Open given file and store the file_ptr\n",
        "  file_ptr = open(file_path, \"r\")\n",
        "  icpc_prob = []\n",
        "  header_line = False\n",
        "\n",
        "  for each_line in file_ptr:\n",
        "    if header_line == False:\n",
        "      header_line = True\n",
        "      continue\n",
        "    line = each_line.strip().split()\n",
        "    line = [float(x) for x in line]\n",
        "    icpc_prob.append(line)\n",
        "  file_ptr.close()\n",
        "  \n",
        "  return icpc_prob\n"
      ],
      "metadata": {
        "id": "mW5wJKe96jY-"
      },
      "execution_count": 5,
      "outputs": []
    },
    {
      "cell_type": "code",
      "source": [
        "# Function to save modified sequences, motif positions, random motif and profile matrix to respective files\n",
        "# Input: sequence_count (Integer), modified_sequences (List), random_positions (List), profile_matrix (List)\n",
        "# Output: Does not return anything but saves data to respective files\n",
        "\n",
        "def save_results_to_respective_files(sequence_count, modified_sequences, random_positions, profile_matrix):\n",
        "\n",
        "  # Write modified sequences to differential_privacy_enforced_sequences.txt file\n",
        "  file_path = base_path + \"differential_privacy_enforced_sequences_appn_\" + str(sequence_count) + \".txt\"\n",
        "  file_ptr = open(file_path, \"w\")\n",
        "  for i in range(0, sequence_count):\n",
        "    file_ptr.write(\"seq_\" + str(i+1) + \"\\n\" + modified_sequences[i] + \"\\n\")\n",
        "  file_ptr.close()\n",
        "\n",
        "  # Write planted motif positions to motif_positions.txt file\n",
        "  file_path = base_path + \"motif_positions_appn_\" + str(sequence_count) + \".txt\"\n",
        "  file_ptr = open(file_path, \"w\")\n",
        "  for i in range(0, sequence_count):\n",
        "    file_ptr.write(str(random_positions[i]) + \"\\n\")\n",
        "  file_ptr.close()\n",
        "\n",
        "  # Write the initially generated random motif and its corresponsding profile matrix to a file\n",
        "  file_path = base_path + \"random_motif_appn.txt\"\n",
        "  file_ptr = open(file_path, \"w\")\n",
        "  file_ptr.write(\">\" + random_motif + \"\\t of length \" + str(motif_length_to_add) + \"\\n\")\n",
        "  for i in range(0, len(profile_matrix)):\n",
        "    for j in range(0, len(profile_matrix[0])):\n",
        "      file_ptr.write(str(profile_matrix[i][j]) + \"\\t\")\n",
        "    file_ptr.write(\"\\n\")\n",
        "  file_ptr.write(\"<\")\n",
        "  file_ptr.close()\n"
      ],
      "metadata": {
        "id": "5rE2GPpn6kK7"
      },
      "execution_count": 6,
      "outputs": []
    },
    {
      "cell_type": "code",
      "execution_count": 7,
      "metadata": {
        "id": "WzCpeqXpbrqO"
      },
      "outputs": [],
      "source": [
        "# Function to read sequences from input file given\n",
        "# Input: sequence_count\n",
        "# Output: Returns dna sequences\n",
        "\n",
        "def read_sequences_from_input_file(sequence_count):\n",
        "\n",
        "  # Reading sequences from the file\n",
        "  dna_input_path = base_path + \"differential_privacy_enforced_sequences_appn_\" + str(sequence_count) + \".txt\"\n",
        "  file_ptr = open(dna_input_path, 'r')\n",
        "  seq_title_line, dna_sequences = True, []\n",
        "\n",
        "  for each_seq in file_ptr:\n",
        "    if seq_title_line:\n",
        "      seq_title_line = False\n",
        "    elif seq_title_line == False:\n",
        "      dna_sequences.append(each_seq.strip('\\n'))\n",
        "      seq_title_line = True\n",
        "  file_ptr.close()\n",
        "  \n",
        "  return dna_sequences\n"
      ]
    },
    {
      "cell_type": "code",
      "execution_count": 8,
      "metadata": {
        "id": "b1y6vQf9cbop"
      },
      "outputs": [],
      "source": [
        "# Function to store results obtained to respective files\n",
        "# Input: sequence_count, information_vector, profile_matrix\n",
        "# Output: Does not return anything. Instead, it saves results to respective files\n",
        "\n",
        "def store_results_to_respective_files(sequence_count, information_vector, profile_matrix):\n",
        "\n",
        "  # Writing results to respective files\n",
        "  # Result: predicted motif sites in dna sequences\n",
        "  predicted_sites = information_vector[1][-1]\n",
        "  output_sites_file = base_path + \"predicted_sites_\" + str(sequence_count) + \".txt\"\n",
        "  file_ptr = open(output_sites_file, 'w')\n",
        "  for idx in range(0, len(predicted_sites)):\n",
        "    file_ptr.write(str(predicted_sites[idx]) + '\\n')\n",
        "  file_ptr.close()\n",
        "\n",
        "  # Result: Obtained motif\n",
        "  output_motif_file = base_path + \"predicted_motif_\" + str(sequence_count) + \".txt\"\n",
        "  file_ptr = open(output_motif_file, 'w')\n",
        "  file_ptr.write(motif_result + '\\n')\n",
        "  for row in range(0, len(profile_matrix)):\n",
        "    for col in range(0, len(profile_matrix[row])):\n",
        "      file_ptr.write(str(int(profile_matrix[row][col])) + '\\t')\n",
        "    file_ptr.write('\\n')\n",
        "  file_ptr.close()\n"
      ]
    },
    {
      "cell_type": "code",
      "execution_count": 9,
      "metadata": {
        "id": "JJzZwlv_YRRI"
      },
      "outputs": [],
      "source": [
        "# Function to compute the Position Weight Matrix (PWM) for N-1 sequences\n",
        "# Input: dna_seqeunces, no_of_sequences, motif_length, sequence_length, motif_sites \n",
        "# Output: Returns pwm and ignored sequence\n",
        "\n",
        "def compute_position_weight_matrix(dna_seqs, no_of_seqs, motif_len, seq_len, motif_sites):\n",
        "\n",
        "  # To ignore a sequence, we generate a random number\n",
        "  random.seed(time.time())\n",
        "  ignored_seq = random.randrange(0, no_of_seqs)\n",
        "\n",
        "  # Calculating the PWM\n",
        "  # Rows: 4 representing A, G, T, C respectively\n",
        "  # Columns: As many as the motif length\n",
        "  pwm = np.zeros((4, motif_len))\n",
        "\n",
        "  # Indexing the N-1 sequences\n",
        "  idx = 0\n",
        "\n",
        "  for seq_idx in range(0, no_of_seqs):\n",
        "\n",
        "    # We ignore the previously selected random sequence\n",
        "    if seq_idx == ignored_seq:\n",
        "        continue\n",
        "\n",
        "    else:\n",
        "      for m_len in range(0, motif_len):\n",
        "        value = dna_seqs[seq_idx][motif_sites[idx] + m_len]\n",
        "        if value == nucleotides[0]:\n",
        "          pwm[0][m_len] += 1\n",
        "        elif value == nucleotides[1]:\n",
        "          pwm[1][m_len] += 1\n",
        "        elif value == nucleotides[2]:\n",
        "          pwm[2][m_len] += 1\n",
        "        elif value == nucleotides[3]:\n",
        "          pwm[3][m_len] += 1\n",
        "    idx += 1\n",
        "\n",
        "  return pwm/(no_of_seqs - 1), ignored_seq\n"
      ]
    },
    {
      "cell_type": "code",
      "execution_count": 10,
      "metadata": {
        "id": "QkyFwf1xZaJn"
      },
      "outputs": [],
      "source": [
        "# Function to predict the motif_site in ignored sequence using the Position Weight Matrix\n",
        "# Input: dna_seqeunces, ignored_seq, pwm, motif_length, sequence_length\n",
        "# Output: Returns the predicted site\n",
        "\n",
        "def predict_motif_site_in_ignored_seq(dna_sequences, ignored_seq, pwm, motif_len, sequence_len):\n",
        "\n",
        "  # Obtaining all possible prediction candidates of given motif length\n",
        "  prediction_candidates = []\n",
        "  for i in range(0, sequence_len - motif_len + 1):\n",
        "    prediction_candidates.append((dna_sequences[ignored_seq])[i:i + motif_len])\n",
        "\n",
        "  # Generating probabilities for all candidates to find the best possible prediction\n",
        "  candidate_probabilities = []\n",
        "  for pred_idx in range(0, len(prediction_candidates)):\n",
        "    frequency, weighted_frequency = 1, 1\n",
        "\n",
        "    for m_len in range(0, motif_len):\n",
        "      value = prediction_candidates[pred_idx][m_len]\n",
        "      if value == nucleotides[0]:\n",
        "        frequency *= freq[0]\n",
        "        weighted_frequency *= pwm[0][m_len]\n",
        "      elif value == nucleotides[1]:\n",
        "        frequency *= freq[1]\n",
        "        weighted_frequency *= pwm[1][m_len]\n",
        "      elif value == nucleotides[2]:\n",
        "        frequency *= freq[2]\n",
        "        weighted_frequency *= pwm[2][m_len]\n",
        "      elif value == nucleotides[3]:\n",
        "        frequency *= freq[3]\n",
        "        weighted_frequency *= pwm[3][m_len]\n",
        "    candidate_probabilities.append(weighted_frequency / frequency)\n",
        "\n",
        "  # Normalizing the probabilities to obtain the predicted site\n",
        "  normalized_probabilities = list(candidate_probabilities / sum(candidate_probabilities))\n",
        "  predicted_site = normalized_probabilities.index(max(normalized_probabilities))\n",
        "  return predicted_site\n"
      ]
    },
    {
      "cell_type": "code",
      "execution_count": 11,
      "metadata": {
        "id": "MpT_hrX6Zcp-"
      },
      "outputs": [],
      "source": [
        "# Function to predict the motif_site in ignored sequence using the Position Weight Matrix\n",
        "# Input: motif_sites, dna_seqeunces, motif_length, no_of_seqs, pwm\n",
        "# Output: Returns information content and updated pwm\n",
        "\n",
        "def compute_information_content(motif_sites, dna_seqs, motif_len, no_of_seqs, precomputed_pwm):\n",
        "  \n",
        "  # Calculating the PWM\n",
        "  # Rows: 4 representing A, G, T, C respectively\n",
        "  # Columns: As many as the motif length\n",
        "  updated_pwm = np.zeros((4, motif_len))\n",
        "  \n",
        "  # Indexing the N-1 sequences\n",
        "  idx = 0\n",
        "\n",
        "  # Computing updated PWM\n",
        "  for seq_idx in range(0, no_of_seqs):\n",
        "    for m_len in range(0, motif_len):\n",
        "      value = dna_seqs[seq_idx][motif_sites[idx] + m_len]\n",
        "      if value == nucleotides[0]:\n",
        "        updated_pwm[0][m_len] += 1\n",
        "      elif value == nucleotides[1]:\n",
        "        updated_pwm[1][m_len] += 1\n",
        "      elif value == nucleotides[2]:\n",
        "        updated_pwm[2][m_len] += 1\n",
        "      elif value == nucleotides[3]:\n",
        "        updated_pwm[3][m_len] += 1\n",
        "    idx += 1\n",
        "  updated_pwm = updated_pwm / no_of_seqs\n",
        "\n",
        "  # Finding the information content based on the updated PWM\n",
        "  info_content = 0\n",
        "  for m_len in range(0, motif_len):\n",
        "    for nuc_no in range(0, 4):\n",
        "      if nuc_no == 0:\n",
        "        normalized_pwm = updated_pwm[nuc_no][m_len] / freq[0]\n",
        "      elif nuc_no == 1:\n",
        "        normalized_pwm = updated_pwm[nuc_no][m_len] / freq[1]\n",
        "      elif nuc_no == 2:\n",
        "        normalized_pwm = updated_pwm[nuc_no][m_len] / freq[2]\n",
        "      elif nuc_no == 3:\n",
        "        normalized_pwm = updated_pwm[nuc_no][m_len] / freq[3]\n",
        "      if normalized_pwm == 0:\n",
        "        continue\n",
        "      info_content += updated_pwm[nuc_no][m_len] * math.log(normalized_pwm, 2)\n",
        "\n",
        "  return info_content, updated_pwm\n"
      ]
    },
    {
      "cell_type": "code",
      "execution_count": 12,
      "metadata": {
        "id": "GeG6yH3zuxZt"
      },
      "outputs": [],
      "source": [
        "# Function to find max PWM and max info content\n",
        "# Input: iterations, dna_sequences, motif_length, sequence_length, motif_sites\n",
        "# Output: Returns information content, pwm and information vector\n",
        "\n",
        "def compute_max_pwm_and_ic(iterations, dna_sequences, motif_length, sequence_length, motif_sites, acceptable_info_content = 1.7):\n",
        "\n",
        "  # Declaring required variables\n",
        "  added_prediction, max_info_content = False, 0\n",
        "  information_vector = [['IC'], ['sites']]\n",
        "  no_of_seqs = len(dna_sequences)\n",
        "\n",
        "  # Runs multiple iterations to obtain right values\n",
        "  for iteration in range(0, iterations):\n",
        "\n",
        "    # Finding the Position Weight Matrix (PWM) for N-1 sequences\n",
        "    pwm, ignored_seq = compute_position_weight_matrix(dna_sequences, no_of_seqs, motif_length, sequence_length, motif_sites)\n",
        "\n",
        "    # Predicting the site in the ignored sequence using the PWM\n",
        "    predicted_site_in_ignored_seq = predict_motif_site_in_ignored_seq(dna_sequences, ignored_seq, pwm, motif_length, sequence_length)\n",
        "\n",
        "    # Adding the predicted site to the list if it is not yet added\n",
        "    if added_prediction == False:\n",
        "      motif_sites.insert(ignored_seq, predicted_site_in_ignored_seq)\n",
        "      added_prediction = True\n",
        "    else:\n",
        "      motif_sites[ignored_seq] = predicted_site_in_ignored_seq\n",
        "    motif_sites_temp = motif_sites[:]\n",
        "\n",
        "    # Computing the information content of the prediction in the current iteration\n",
        "    information_vector[1].append(motif_sites_temp)\n",
        "    info_content, pwm = compute_information_content(motif_sites, dna_sequences, motif_length, no_of_seqs, pwm)\n",
        "    information_vector[0].append(info_content)\n",
        "\n",
        "    # Updating max. information content value\n",
        "    if info_content > max_info_content:\n",
        "      max_info_content = info_content\n",
        "      max_pwm = pwm\n",
        "\n",
        "    if info_content > (acceptable_info_content * motif_length):\n",
        "      break\n",
        "\n",
        "  # Updating info_content & pwm with the max. values respectively\n",
        "  info_content = max_info_content\n",
        "  pwm = max_pwm\n",
        "  \n",
        "  return info_content, max_pwm, information_vector\n"
      ]
    },
    {
      "cell_type": "code",
      "execution_count": 13,
      "metadata": {
        "id": "XsO3SACnRhVu"
      },
      "outputs": [],
      "source": [
        "# Function to find motif from pwm using the sequences and motif length\n",
        "# Input: pwm, no_of_seqs, motif_length\n",
        "# Output: Returns motif result and profile matrix\n",
        "\n",
        "def find_motif_from_pwm(pwm, no_of_seqs, motif_length):\n",
        "\n",
        "  # Obtaining the motif from given dna sequences using Position Weight Matrix\n",
        "  profile_matrix = np.transpose(pwm) * no_of_seqs\n",
        "  motif_temp = []\n",
        "  for m_len in range(0, motif_length):\n",
        "    values_at_mlen = list(profile_matrix[m_len])\n",
        "    max_value = max(values_at_mlen)\n",
        "\n",
        "    # As two nucleotides may have equal probability of occurrence, we check if the max_value appears more than once\n",
        "    max_value_indices = []\n",
        "    for idx in range(0, len(values_at_mlen)):\n",
        "      if values_at_mlen[idx] == max_value:\n",
        "        max_value_indices.append(idx)\n",
        "    \n",
        "    if len(max_value_indices) > 1:\n",
        "      motif_index = random.choice(max_value_indices)\n",
        "    else:\n",
        "      motif_index = values_at_mlen.index(max(values_at_mlen))\n",
        "    \n",
        "    motif_temp.append(nucleotides[motif_index])\n",
        "  motif_result = ''.join(motif_temp)\n",
        "\n",
        "  return motif_result, profile_matrix\n"
      ]
    },
    {
      "cell_type": "code",
      "execution_count": 14,
      "metadata": {
        "id": "4Kel513kGsAS"
      },
      "outputs": [],
      "source": [
        "# Function to find the percentage of sequences that have a minimum match of 50% of motif\n",
        "# Input: all_dna_sequences, motif_results\n",
        "# Output: Returns motif counts\n",
        "\n",
        "def find_count_of_threshold_matched_sequences(all_dna_sequences, motif_results):\n",
        "  \n",
        "  # Finding the percentage match of motif in each input dna sequence\n",
        "  motif_counts = {}\n",
        "  print(\"Original motif counts:\")\n",
        "\n",
        "  for sequences in all_dna_sequences:\n",
        "    motif_cnt = [0, 0, 0, 0, 0]\n",
        "    data_size = len(sequences)\n",
        "\n",
        "    for motif_idx in range(0, 5):\n",
        "      motif = motif_results[motif_idx]\n",
        "      for each_sequence in sequences:\n",
        "        # seq_lenth = 300 and motif_length = 10\n",
        "        # If atleast 5 characters are matched, it is good\n",
        "        # So, percentage match should be 5/300 ~ 0.015\n",
        "        if SequenceMatcher(None, motif, each_sequence).ratio() >= 0.01:\n",
        "          motif_cnt[motif_idx] += 1\n",
        "        \n",
        "    print(motif_cnt, \"for \", data_size, \" dna sequences\")\n",
        "    motif_counts[data_size] = motif_cnt\n",
        "    \n",
        "  return motif_counts\n"
      ]
    },
    {
      "cell_type": "code",
      "execution_count": 15,
      "metadata": {
        "id": "yAxaR9GyG5bE"
      },
      "outputs": [],
      "source": [
        "# Function to find the normalized motif counts from actual counts\n",
        "# Input: motif_counts\n",
        "# Output: Returns normalized motif counts\n",
        "\n",
        "def compute_normalized_motif_counts(motif_counts):\n",
        "\n",
        "  # To plot the motif counts along the same scale, we normalize the counts\n",
        "  normalized_motif_counts = {}\n",
        "  print(\"\\n\\nNormalized motif counts:\")\n",
        "\n",
        "  for key in motif_counts:\n",
        "    normalized_list = []\n",
        "    for each_val in motif_counts[key]:\n",
        "      normalized_list.append(round(each_val / key, 2))\n",
        "    normalized_motif_counts[key] = normalized_list\n",
        "    print(normalized_motif_counts[key])\n",
        "\n",
        "  return normalized_motif_counts\n"
      ]
    },
    {
      "cell_type": "code",
      "execution_count": 16,
      "metadata": {
        "id": "1dQX5wA1VzYp"
      },
      "outputs": [],
      "source": [
        "# Function to plot the motif match observations made\n",
        "# Input: motif_results, normalized_motif_counts\n",
        "# Output: Displays different bar graphs for various input sizes\n",
        "\n",
        "def plot_motif_match_observations(motif_results, normalized_motif_counts):\n",
        "  \n",
        "  # Plotting normalized motif counts across the dna sequences considered\n",
        "  colors = ['green', 'orange', 'olive', 'purple', 'maroon']\n",
        "  idx = 0\n",
        "\n",
        "  for key in normalized_motif_counts:\n",
        "    x_axis = motif_results\n",
        "    y_axis = normalized_motif_counts[key]\n",
        "    \n",
        "    bar_chart = plt.figure(figsize = (8, 5))\n",
        "    plt.bar(x_axis, y_axis, color = colors[idx])\n",
        "    plt.xticks(rotation=30)\n",
        "    plt.yticks(np.arange(0, 0.10, 0.02))\n",
        "    plt.xlabel(\"Motifs found\")\n",
        "    plt.ylabel(\"Dna sequences which matched atleast 50% of motif_length\")\n",
        "    plt.title(\"Plot for \" + str(key) + \" sequences\")\n",
        "    \n",
        "    idx += 1\n",
        "    plt.show()\n"
      ]
    },
    {
      "cell_type": "code",
      "execution_count": 17,
      "metadata": {
        "colab": {
          "base_uri": "https://localhost:8080/"
        },
        "id": "kNtSLSztgeze",
        "outputId": "c1ecbc83-b0c2-4ad3-dc4e-a297b9b0ebaf"
      },
      "outputs": [
        {
          "output_type": "stream",
          "name": "stdout",
          "text": [
            "Drive already mounted at /content/drive; to attempt to forcibly remount, call drive.mount(\"/content/drive\", force_remount=True).\n"
          ]
        }
      ],
      "source": [
        "# Establish connection to use Google drive\n",
        "drive.mount(\"/content/drive\")\n",
        "base_path = \"drive/MyDrive/DNA-Dataset/Data/\"\n"
      ]
    },
    {
      "cell_type": "code",
      "source": [
        "# Define constants needed\n",
        "nucleotides = ['A', 'G', 'T', 'C']\n",
        "nucleotide_prob = [0.25, 0.25, 0.25, 0.25]\n",
        "freq = [0.25, 0.25, 0.25, 0.25]\n",
        "\n",
        "# ICPC: information_content_per_column = float(input()) # [0, 2]\n",
        "# Typically rounded down to two decimal digits\n",
        "icpc = 1.02 \n",
        "\n",
        "# Generally 5-20 base pairs long\n",
        "motif_length_to_add = 30\n",
        "motif_length_to_find = 15\n",
        "\n",
        "# General length of a dna sequence is 150 base pairs\n",
        "sequence_length = 300\n",
        "\n",
        "# For analysis, we generate different no. of dna sequences\n",
        "sequence_counts = [1000, 5000, 10000, 50000, 100000]\n",
        "\n",
        "# For analysis, we store sequence generation times for various length \n",
        "sequence_generation_times = []\n",
        "\n",
        "# Application to detect COVID 19 motif in the DNA & find the percentage match\n",
        "covid_motif = \"TTCACCGAGGCCACGCGGAGTACGATCGAGTGTACAGTGAA\"\n",
        "random_motif = covid_motif    #Adding the COVID motif completely to the data\n",
        "#covid_motif_start_pos = random.randint(0, len(covid_motif) - motif_length_to_find)\n"
      ],
      "metadata": {
        "id": "TBxsczJ76yRl"
      },
      "execution_count": 18,
      "outputs": []
    },
    {
      "cell_type": "code",
      "source": [
        "# Obtain probability associated with information content per column\n",
        "icpc_path = base_path + \"icpc_p_map.txt\"\n",
        "icpc_prob = obtain_info_content_per_column(icpc_path)\n",
        "icpc_probability = [icpc_prob[i][1] for i in range(0, len(icpc_prob)) if round(icpc, 2) == icpc_prob[i][0]]\n",
        "icpc_probability = icpc_probability[0]\n",
        "\n",
        "# Obtain normalized probabilities by performing (1 - prob) / (1 + max_icpc)\n",
        "normalized_prob = (1 - icpc_probability) / 3.0\n"
      ],
      "metadata": {
        "id": "Ij9OSG4p7NRO"
      },
      "execution_count": 19,
      "outputs": []
    },
    {
      "cell_type": "code",
      "source": [
        "# Generate DNA sequences of different sequence counts\n",
        "for sequence_count in sequence_counts:\n",
        "\n",
        "  # Start the timer to track generation times\n",
        "  start_time = time.perf_counter()\n",
        "  \n",
        "  # Generate sequences of given sequence count\n",
        "  sequences = []\n",
        "  for i in range(0, sequence_count):\n",
        "    seq = generate_sequence(sequence_length, nucleotide_prob)\n",
        "    sequences.append(seq)\n",
        "  \n",
        "  # Generate 20 random motifs from the COVID 19 motif sequence\n",
        "  generated_motifs = []\n",
        "  for i in range(0, motif_length_to_add):\n",
        "    motif_prob = [normalized_prob, normalized_prob, normalized_prob, normalized_prob]\n",
        "    for j in range(0, len(nucleotides)):\n",
        "      if random_motif[i] == nucleotides[j]:\n",
        "        motif_prob[j] = icpc_probability\n",
        "    generated_motif = generate_sequence(sequence_count, motif_prob)\n",
        "    generated_motifs.append(generated_motif)\n",
        "\n",
        "  # Generate sequence_count no. of random motifs of size motif_length\n",
        "  motifs = []\n",
        "  for i in range(0, sequence_count):\n",
        "    motif = []\n",
        "    for j in range(0, motif_length_to_add):\n",
        "      motif.append(generated_motifs[j][i])\n",
        "    motifs.append(''.join(motif))\n",
        "\n",
        "  print(\"\\nNo. of motifs: \", len(motifs))\n",
        "  print(\"A motif looks like: \", motifs[0])\n",
        "\n",
        "  # Constructing the Positional Weight Matrix or Profile Matrix\n",
        "  # to analyze the counts associated with nucleotides\n",
        "  profile_matrix = []\n",
        "  for i in range(0, motif_length_to_add):\n",
        "    counts = [0, 0, 0, 0]\n",
        "    for j in range(0, sequence_count):\n",
        "      for k in range(0, len(nucleotides)):\n",
        "        if motifs[j][i] == nucleotides[k]:\n",
        "          counts[k] = counts[k] + 1\n",
        "    profile_matrix.append(counts)\n",
        "\n",
        "  print(\"\\nNo. of rows in profile_matrix: \", len(profile_matrix))\n",
        "  print(\"No. of columns in profile matrix: \", len(profile_matrix[0]))\n",
        "  print(\"A sample row in profile matrix looks like: \", profile_matrix[0], \"\\n\")\n",
        "\n",
        "  # Plant as many motifs as sequence_count in sequences to enforce differential privacy\n",
        "  modified_sequences = []\n",
        "  random_positions = []\n",
        "  for i in range(0, sequence_count):\n",
        "    modified_sequence, random_position = plant_motifs_in_sequence(sequences[i], motifs, motif_length_to_add, sequence_length, sequence_count)\n",
        "    modified_sequences.append(modified_sequence)\n",
        "    random_positions.append(random_position)\n",
        "\n",
        "  # Save results to respective files\n",
        "  save_results_to_respective_files(sequence_count, modified_sequences, random_positions, profile_matrix)\n",
        "\n",
        "  # End the timer to stop and save the total generation time\n",
        "  end_time = time.perf_counter()\n",
        "  sequence_generation_times.append(round(end_time - start_time, 2))\n",
        "  print(\"**********************************\")\n"
      ],
      "metadata": {
        "id": "7-c_yQu94oT2",
        "colab": {
          "base_uri": "https://localhost:8080/"
        },
        "outputId": "ad451b4f-c2a8-4318-e5cd-276355a11400"
      },
      "execution_count": 20,
      "outputs": [
        {
          "output_type": "stream",
          "name": "stdout",
          "text": [
            "\n",
            "No. of motifs:  1000\n",
            "A motif looks like:  GACTAGGAGACCACCCGGTGTACGCTCGAG\n",
            "\n",
            "No. of rows in profile_matrix:  30\n",
            "No. of columns in profile matrix:  4\n",
            "A sample row in profile matrix looks like:  [55, 69, 823, 53] \n",
            "\n",
            "**********************************\n",
            "\n",
            "No. of motifs:  5000\n",
            "A motif looks like:  TTCACCGACGCCGCGCGGAGTACGATCGAG\n",
            "\n",
            "No. of rows in profile_matrix:  30\n",
            "No. of columns in profile matrix:  4\n",
            "A sample row in profile matrix looks like:  [319, 343, 4047, 291] \n",
            "\n",
            "**********************************\n",
            "\n",
            "No. of motifs:  10000\n",
            "A motif looks like:  TTCACGGTAGCCACGCGGAGCACGATCGAG\n",
            "\n",
            "No. of rows in profile_matrix:  30\n",
            "No. of columns in profile matrix:  4\n",
            "A sample row in profile matrix looks like:  [624, 593, 8187, 596] \n",
            "\n",
            "**********************************\n",
            "\n",
            "No. of motifs:  50000\n",
            "A motif looks like:  TTCATCGATGCCACGCGGAGTAATATTTAA\n",
            "\n",
            "No. of rows in profile_matrix:  30\n",
            "No. of columns in profile matrix:  4\n",
            "A sample row in profile matrix looks like:  [3051, 3076, 40760, 3113] \n",
            "\n",
            "**********************************\n",
            "\n",
            "No. of motifs:  100000\n",
            "A motif looks like:  TTCATCGAGGTCACGCGGTGTACAGCTGAG\n",
            "\n",
            "No. of rows in profile_matrix:  30\n",
            "No. of columns in profile matrix:  4\n",
            "A sample row in profile matrix looks like:  [6065, 6173, 81524, 6238] \n",
            "\n",
            "**********************************\n"
          ]
        }
      ]
    },
    {
      "cell_type": "code",
      "source": [
        "# Plot the generation times and sequence_count  to visualize data generation times\n",
        "plt.plot(sequence_generation_times, sequence_counts)\n",
        "plt.xlabel('Sequence Generation Time (in seconds)')\n",
        "plt.ylabel('Sequence Count')\n",
        "plt.title('Visualizing the effect of sequence count on generation times')\n",
        "plt.show()\n"
      ],
      "metadata": {
        "id": "uIc-otBz7ZzF",
        "colab": {
          "base_uri": "https://localhost:8080/",
          "height": 295
        },
        "outputId": "01817777-d1ae-4d00-9334-d14fadb5220c"
      },
      "execution_count": 21,
      "outputs": [
        {
          "output_type": "display_data",
          "data": {
            "text/plain": [
              "<Figure size 432x288 with 1 Axes>"
            ],
            "image/png": "[encoded data removed]"
          },
          "metadata": {
            "needs_background": "light"
          }
        }
      ]
    },
    {
      "cell_type": "code",
      "execution_count": 22,
      "metadata": {
        "id": "GuUEcjDWr-n6",
        "colab": {
          "base_uri": "https://localhost:8080/"
        },
        "outputId": "08a1d256-3a3c-4819-c0fc-b18792abe499"
      },
      "outputs": [
        {
          "output_type": "stream",
          "name": "stdout",
          "text": [
            "\n",
            "No. of DNA sequences:  1000\n",
            "Motif discovered:  GGATGATGGGATGGC \n",
            "\n",
            "**********************************\n",
            "\n",
            "No. of DNA sequences:  5000\n",
            "Motif discovered:  TTCTGGCCGGTCAGT \n",
            "\n",
            "**********************************\n",
            "\n",
            "No. of DNA sequences:  10000\n",
            "Motif discovered:  TTCCCTATCCTACTA \n",
            "\n",
            "**********************************\n",
            "\n",
            "No. of DNA sequences:  50000\n",
            "Motif discovered:  TCACGGAAGTGATAA \n",
            "\n",
            "**********************************\n",
            "\n",
            "No. of DNA sequences:  100000\n",
            "Motif discovered:  CGTAGCGTCCGGTCA \n",
            "\n",
            "**********************************\n"
          ]
        }
      ],
      "source": [
        "# Executing Gibbs algorithm and store motif results obtained\n",
        "motif_results, motif_detection_times = [], []\n",
        "profile_matrices, all_dna_sequences = [], []\n",
        "idx = 0\n",
        "\n",
        "for sequence_count in sequence_counts:\n",
        "\n",
        "  # Start the timer to track motif detection times\n",
        "  start_time = time.perf_counter()\n",
        "\n",
        "  # Read DNA data from input files\n",
        "  dna_sequences = read_sequences_from_input_file(sequence_count)\n",
        "  all_dna_sequences.append(dna_sequences)\n",
        "  \n",
        "  no_of_seqs = len(dna_sequences)\n",
        "  print(\"\\nNo. of DNA sequences: \", no_of_seqs)\n",
        "\n",
        "  # As in Gibbs sampling, we select random starting points and \n",
        "  # generate motif site for all the remaining sequences\n",
        "  motif_sites = []\n",
        "  for i in range(0, no_of_seqs-1):\n",
        "    random_start_site = random.randrange(0, sequence_length - motif_length_to_find)\n",
        "    motif_sites.append(random_start_site)\n",
        "\n",
        "  # Implementing Gibbs algorithm with several iterations\n",
        "  iterations =  100\n",
        "  info_content, pwm, information_vector = compute_max_pwm_and_ic(iterations, dna_sequences, motif_length_to_find, sequence_length, motif_sites)\n",
        "  motif_result, profile_matrix = find_motif_from_pwm(pwm, no_of_seqs, motif_length_to_find)\n",
        "  motif_results.append(motif_result)\n",
        "  profile_matrices.append(profile_matrix)\n",
        "  store_results_to_respective_files(sequence_count, information_vector, profile_matrix)\n",
        "\n",
        "  # Analyzing the results obtained\n",
        "  print(\"Motif discovered: \", motif_results[idx], \"\\n\")\n",
        "  idx += 1\n",
        "\n",
        "  # End the timer to track motif detection times\n",
        "  end_time = time.perf_counter()\n",
        "  motif_detection_times.append(round(end_time - start_time, 2))\n",
        "  print(\"**********************************\")\n"
      ]
    },
    {
      "cell_type": "code",
      "source": [
        "# Plot the motif detection times and sequence_count for visualization\n",
        "plt.plot(motif_detection_times, sequence_counts)\n",
        "plt.xlabel('Motif Detection Time (in seconds)')\n",
        "plt.ylabel('Sequence Count')\n",
        "plt.title('Visualizing the effect of sequence count on motif detection times')\n",
        "plt.show()\n"
      ],
      "metadata": {
        "colab": {
          "base_uri": "https://localhost:8080/",
          "height": 295
        },
        "id": "mkFTby2JDPCr",
        "outputId": "4afce5e3-4601-4555-a5ea-c1715287300d"
      },
      "execution_count": 23,
      "outputs": [
        {
          "output_type": "display_data",
          "data": {
            "text/plain": [
              "<Figure size 432x288 with 1 Axes>"
            ],
            "image/png": "[encoded data removed]"
          },
          "metadata": {
            "needs_background": "light"
          }
        }
      ]
    },
    {
      "cell_type": "code",
      "execution_count": 26,
      "metadata": {
        "id": "gJ5aZi7rHPeN",
        "colab": {
          "base_uri": "https://localhost:8080/"
        },
        "outputId": "d1951283-8aba-4d63-8daf-94700d15da4a"
      },
      "outputs": [
        {
          "output_type": "stream",
          "name": "stdout",
          "text": [
            "Original motif counts:\n",
            "[60, 66, 66, 72, 64] for  1000  dna sequences\n",
            "[325, 275, 275, 332, 342] for  5000  dna sequences\n",
            "[597, 634, 634, 603, 592] for  10000  dna sequences\n",
            "[3220, 3145, 3145, 3124, 3123] for  50000  dna sequences\n",
            "[6214, 6149, 6149, 6062, 6257] for  100000  dna sequences\n",
            "\n",
            "\n",
            "Normalized motif counts:\n",
            "[0.06, 0.07, 0.07, 0.07, 0.06]\n",
            "[0.07, 0.06, 0.06, 0.07, 0.07]\n",
            "[0.06, 0.06, 0.06, 0.06, 0.06]\n",
            "[0.06, 0.06, 0.06, 0.06, 0.06]\n",
            "[0.06, 0.06, 0.06, 0.06, 0.06]\n",
            "\n",
            "\n",
            "In the dataset,  6.0 % of records matched well with the COVID motif\n",
            "Hence, we can specualte that those individuals need immediate medical supervision\n"
          ]
        }
      ],
      "source": [
        "# Finding percentage match between motif and the DNA sequences\n",
        "motif_counts = find_count_of_threshold_matched_sequences(all_dna_sequences, motif_results)\n",
        "normalized_motif_counts = compute_normalized_motif_counts(motif_counts)\n",
        "\n",
        "# FInding the mode to see the common amount of match\n",
        "total_percent_counts = []\n",
        "for key in normalized_motif_counts.keys():\n",
        "  for each_percent in normalized_motif_counts[key]:\n",
        "    total_percent_counts.append(each_percent)\n",
        "\n",
        "max_data_percent_matched = Counter(total_percent_counts)\n",
        "max_value = max_data_percent_matched.most_common(1)\n",
        "max_count = max_value[0][0]\n",
        "print(\"\\n\\nIn the dataset, \", (max_count * 100), \"% of records matched well with the COVID motif\")\n",
        "print(\"Hence, we can specualte that those individuals need immediate medical supervision\")\n"
      ]
    },
    {
      "cell_type": "code",
      "source": [
        "# Visualization\n",
        "plot_motif_match_observations(motif_results, normalized_motif_counts)\n"
      ],
      "metadata": {
        "colab": {
          "base_uri": "https://localhost:8080/",
          "height": 1000
        },
        "id": "yUi05S17AODc",
        "outputId": "6e32bd7a-a582-4b23-de15-e63be81dabd6"
      },
      "execution_count": 25,
      "outputs": [
        {
          "output_type": "display_data",
          "data": {
            "text/plain": [
              "<Figure size 576x360 with 1 Axes>"
            ],
            "image/png": "[encoded data removed]"
          },
          "metadata": {
            "needs_background": "light"
          }
        },
        {
          "output_type": "display_data",
          "data": {
            "text/plain": [
              "<Figure size 576x360 with 1 Axes>"
            ],
            "image/png": "[encoded data removed]"
          },
          "metadata": {
            "needs_background": "light"
          }
        },
        {
          "output_type": "display_data",
          "data": {
            "text/plain": [
              "<Figure size 576x360 with 1 Axes>"
            ],
            "image/png": "[encoded data removed]"
          },
          "metadata": {
            "needs_background": "light"
          }
        },
        {
          "output_type": "display_data",
          "data": {
            "text/plain": [
              "<Figure size 576x360 with 1 Axes>"
            ],
            "image/png": "[encoded data removed]"
          },
          "metadata": {
            "needs_background": "light"
          }
        },
        {
          "output_type": "display_data",
          "data": {
            "text/plain": [
              "<Figure size 576x360 with 1 Axes>"
            ],
            "image/png": "[encoded data removed]"
          },
          "metadata": {
            "needs_background": "light"
          }
        }
      ]
    }
  ],
  "metadata": {
    "colab": {
      "provenance": []
    },
    "kernelspec": {
      "display_name": "Python 3",
      "name": "python3"
    },
    "language_info": {
      "name": "python"
    }
  },
  "nbformat": 4,
  "nbformat_minor": 0
}